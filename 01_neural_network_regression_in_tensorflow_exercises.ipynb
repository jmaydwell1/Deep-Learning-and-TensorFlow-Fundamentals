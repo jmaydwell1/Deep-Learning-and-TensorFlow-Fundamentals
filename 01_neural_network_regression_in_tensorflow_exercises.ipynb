{
  "nbformat": 4,
  "nbformat_minor": 0,
  "metadata": {
    "colab": {
      "provenance": [],
      "authorship_tag": "ABX9TyNfN5fXrydYuHNv89ems+B1",
      "include_colab_link": true
    },
    "kernelspec": {
      "name": "python3",
      "display_name": "Python 3"
    },
    "language_info": {
      "name": "python"
    }
  },
  "cells": [
    {
      "cell_type": "markdown",
      "metadata": {
        "id": "view-in-github",
        "colab_type": "text"
      },
      "source": [
        "<a href=\"https://colab.research.google.com/github/jmaydwell1/Tensorflow-Deep-Learning/blob/main/01_neural_network_regression_in_tensorflow_exercises.ipynb\" target=\"_parent\"><img src=\"https://colab.research.google.com/assets/colab-badge.svg\" alt=\"Open In Colab\"/></a>"
      ]
    },
    {
      "cell_type": "code",
      "execution_count": 1,
      "metadata": {
        "colab": {
          "base_uri": "https://localhost:8080/",
          "height": 0
        },
        "id": "lovONzbkBeua",
        "outputId": "a58ee1df-b341-440b-ea72-9273b04b113a"
      },
      "outputs": [
        {
          "output_type": "stream",
          "name": "stdout",
          "text": [
            "2.9.2\n"
          ]
        }
      ],
      "source": [
        "import tensorflow as tf\n",
        "print(tf.__version__)"
      ]
    },
    {
      "cell_type": "code",
      "source": [
        "import numpy as np\n",
        "import matplotlib.pyplot as plt\n",
        "\n",
        "# Create features \n",
        "x = np.array([-7.0, -4.0, -1.0, 2.0, 5.0, 8.0, 11.0, 14.0])\n",
        "\n",
        "# Create labels\n",
        "y = np.array([3.0, 6.0, 9.0, 12.0, 15.0, 18.0, 21.0, 24.0])\n",
        "\n",
        "# Visualize it\n",
        "plt.scatter(x,y)"
      ],
      "metadata": {
        "colab": {
          "base_uri": "https://localhost:8080/",
          "height": 286
        },
        "id": "VAdpmyqsByJ0",
        "outputId": "4e4c5de5-1e63-46b4-8755-56b1650493c1"
      },
      "execution_count": 2,
      "outputs": [
        {
          "output_type": "execute_result",
          "data": {
            "text/plain": [
              "<matplotlib.collections.PathCollection at 0x7fae4079fdd0>"
            ]
          },
          "metadata": {},
          "execution_count": 2
        },
        {
          "output_type": "display_data",
          "data": {
            "text/plain": [
              "<Figure size 432x288 with 1 Axes>"
            ],
            "image/png": "[encoded data removed]"
          },
          "metadata": {
            "needs_background": "light"
          }
        }
      ]
    },
    {
      "cell_type": "code",
      "source": [
        "# Example input and output shapes of a regression model\n",
        "house_info = tf.constant([\"bedroom\", \"bathroom\", \"garage\"])\n",
        "house_price = tf.constant([939700])\n",
        "house_info, house_price"
      ],
      "metadata": {
        "colab": {
          "base_uri": "https://localhost:8080/",
          "height": 0
        },
        "id": "dAqJeXsiCiBl",
        "outputId": "c552347b-65fb-4bfb-aa6e-efde6a5e7af4"
      },
      "execution_count": 3,
      "outputs": [
        {
          "output_type": "execute_result",
          "data": {
            "text/plain": [
              "(<tf.Tensor: shape=(3,), dtype=string, numpy=array([b'bedroom', b'bathroom', b'garage'], dtype=object)>,\n",
              " <tf.Tensor: shape=(1,), dtype=int32, numpy=array([939700], dtype=int32)>)"
            ]
          },
          "metadata": {},
          "execution_count": 3
        }
      ]
    },
    {
      "cell_type": "code",
      "source": [
        "house_info.shape"
      ],
      "metadata": {
        "colab": {
          "base_uri": "https://localhost:8080/",
          "height": 0
        },
        "id": "f_4DByzJDRe3",
        "outputId": "a87e7520-8214-46d0-c27c-c86ac02daa1e"
      },
      "execution_count": 4,
      "outputs": [
        {
          "output_type": "execute_result",
          "data": {
            "text/plain": [
              "TensorShape([3])"
            ]
          },
          "metadata": {},
          "execution_count": 4
        }
      ]
    },
    {
      "cell_type": "code",
      "source": [
        "# Set random seed\n",
        "tf.random.set_seed(42)\n",
        "\n",
        "# Create modelusing the Sequential API\n",
        "model = tf.keras.Sequential([\n",
        "    tf.keras.layers.Dense(1)\n",
        "])\n",
        "\n",
        "# Compile the model\n",
        "model.compile(loss=tf.keras.losses.mae, # mae is short for mean absolute error\n",
        "              optimizer=tf.keras.optimizers.SGD(), # SGD is short for stochastic gradient descent\n",
        "              metrics=[\"mae\"])\n",
        "\n",
        "# Fit the model\n",
        "# model.fit(x,y, epochs=5) #this will break with TensorFlow 2.7.0+\n",
        "model.fit(tf.expand_dims(x, axis=-1), y, epochs=5)"
      ],
      "metadata": {
        "colab": {
          "base_uri": "https://localhost:8080/",
          "height": 0
        },
        "id": "CPF_12bBDZmm",
        "outputId": "2d1bd70e-7444-4351-cad7-39ad51265f8e"
      },
      "execution_count": 5,
      "outputs": [
        {
          "output_type": "stream",
          "name": "stdout",
          "text": [
            "Epoch 1/5\n",
            "1/1 [==============================] - 1s 1s/step - loss: 11.5048 - mae: 11.5048\n",
            "Epoch 2/5\n",
            "1/1 [==============================] - 0s 13ms/step - loss: 11.3723 - mae: 11.3723\n",
            "Epoch 3/5\n",
            "1/1 [==============================] - 0s 12ms/step - loss: 11.2398 - mae: 11.2398\n",
            "Epoch 4/5\n",
            "1/1 [==============================] - 0s 9ms/step - loss: 11.1073 - mae: 11.1073\n",
            "Epoch 5/5\n",
            "1/1 [==============================] - 0s 8ms/step - loss: 10.9748 - mae: 10.9748\n"
          ]
        },
        {
          "output_type": "execute_result",
          "data": {
            "text/plain": [
              "<keras.callbacks.History at 0x7fae41009150>"
            ]
          },
          "metadata": {},
          "execution_count": 5
        }
      ]
    },
    {
      "cell_type": "code",
      "source": [
        "x, y"
      ],
      "metadata": {
        "colab": {
          "base_uri": "https://localhost:8080/",
          "height": 0
        },
        "id": "qCZ_GXO8GSjv",
        "outputId": "741aef71-6a9c-4652-e43d-a5b4ede69d30"
      },
      "execution_count": 6,
      "outputs": [
        {
          "output_type": "execute_result",
          "data": {
            "text/plain": [
              "(array([-7., -4., -1.,  2.,  5.,  8., 11., 14.]),\n",
              " array([ 3.,  6.,  9., 12., 15., 18., 21., 24.]))"
            ]
          },
          "metadata": {},
          "execution_count": 6
        }
      ]
    },
    {
      "cell_type": "markdown",
      "source": [
        "What do you think the outcome should be if we passed our model an x value of 17.0?"
      ],
      "metadata": {
        "id": "UlIwnjStGZZB"
      }
    },
    {
      "cell_type": "code",
      "source": [
        "# Make a prediction with the model\n",
        "model.predict([17.0])"
      ],
      "metadata": {
        "colab": {
          "base_uri": "https://localhost:8080/",
          "height": 0
        },
        "id": "z5Ikl_HdGq9Y",
        "outputId": "315b4d22-2853-4c95-d21f-b94ac8ad58b7"
      },
      "execution_count": 7,
      "outputs": [
        {
          "output_type": "stream",
          "name": "stdout",
          "text": [
            "1/1 [==============================] - 0s 148ms/step\n"
          ]
        },
        {
          "output_type": "execute_result",
          "data": {
            "text/plain": [
              "array([[12.716021]], dtype=float32)"
            ]
          },
          "metadata": {},
          "execution_count": 7
        }
      ]
    },
    {
      "cell_type": "code",
      "source": [
        "tf.random.set_seed(42)\n",
        "\n",
        "# Create a model (same as above)\n",
        "model = tf.keras.Sequential([\n",
        "    tf.keras.layers.Dense(1)\n",
        "])\n",
        "\n",
        "# Compile model (same as above)\n",
        "model.compile(loss=tf.keras.losses.mae,\n",
        "              optimizer= tf.keras.optimizers.SGD(),\n",
        "              metrics=['mae'])\n",
        "\n",
        "# Fit the model (this time we'll train for longer)\n",
        "model.fit(tf.expand_dims(x,axis=-1), y, epochs=100) # train for 100 epochs not 5"
      ],
      "metadata": {
        "colab": {
          "base_uri": "https://localhost:8080/",
          "height": 0
        },
        "id": "xlnf06m4G4GR",
        "outputId": "ccd2e9c2-a790-49f2-97cc-c3e86bf56360"
      },
      "execution_count": 8,
      "outputs": [
        {
          "output_type": "stream",
          "name": "stdout",
          "text": [
            "Epoch 1/100\n",
            "1/1 [==============================] - 1s 747ms/step - loss: 11.5048 - mae: 11.5048\n",
            "Epoch 2/100\n",
            "1/1 [==============================] - 0s 29ms/step - loss: 11.3723 - mae: 11.3723\n",
            "Epoch 3/100\n",
            "1/1 [==============================] - 0s 42ms/step - loss: 11.2398 - mae: 11.2398\n",
            "Epoch 4/100\n",
            "1/1 [==============================] - 0s 24ms/step - loss: 11.1073 - mae: 11.1073\n",
            "Epoch 5/100\n",
            "1/1 [==============================] - 0s 25ms/step - loss: 10.9748 - mae: 10.9748\n",
            "Epoch 6/100\n",
            "1/1 [==============================] - 0s 30ms/step - loss: 10.8423 - mae: 10.8423\n",
            "Epoch 7/100\n",
            "1/1 [==============================] - 0s 27ms/step - loss: 10.7098 - mae: 10.7098\n",
            "Epoch 8/100\n",
            "1/1 [==============================] - 0s 26ms/step - loss: 10.5773 - mae: 10.5773\n",
            "Epoch 9/100\n",
            "1/1 [==============================] - 0s 23ms/step - loss: 10.4448 - mae: 10.4448\n",
            "Epoch 10/100\n",
            "1/1 [==============================] - 0s 19ms/step - loss: 10.3123 - mae: 10.3123\n",
            "Epoch 11/100\n",
            "1/1 [==============================] - 0s 19ms/step - loss: 10.1798 - mae: 10.1798\n",
            "Epoch 12/100\n",
            "1/1 [==============================] - 0s 23ms/step - loss: 10.0473 - mae: 10.0473\n",
            "Epoch 13/100\n",
            "1/1 [==============================] - 0s 22ms/step - loss: 9.9148 - mae: 9.9148\n",
            "Epoch 14/100\n",
            "1/1 [==============================] - 0s 24ms/step - loss: 9.7823 - mae: 9.7823\n",
            "Epoch 15/100\n",
            "1/1 [==============================] - 0s 24ms/step - loss: 9.6498 - mae: 9.6498\n",
            "Epoch 16/100\n",
            "1/1 [==============================] - 0s 15ms/step - loss: 9.5173 - mae: 9.5173\n",
            "Epoch 17/100\n",
            "1/1 [==============================] - 0s 10ms/step - loss: 9.3848 - mae: 9.3848\n",
            "Epoch 18/100\n",
            "1/1 [==============================] - 0s 10ms/step - loss: 9.2523 - mae: 9.2523\n",
            "Epoch 19/100\n",
            "1/1 [==============================] - 0s 16ms/step - loss: 9.1198 - mae: 9.1198\n",
            "Epoch 20/100\n",
            "1/1 [==============================] - 0s 13ms/step - loss: 8.9873 - mae: 8.9873\n",
            "Epoch 21/100\n",
            "1/1 [==============================] - 0s 29ms/step - loss: 8.8548 - mae: 8.8548\n",
            "Epoch 22/100\n",
            "1/1 [==============================] - 0s 23ms/step - loss: 8.7223 - mae: 8.7223\n",
            "Epoch 23/100\n",
            "1/1 [==============================] - 0s 11ms/step - loss: 8.5898 - mae: 8.5898\n",
            "Epoch 24/100\n",
            "1/1 [==============================] - 0s 20ms/step - loss: 8.4573 - mae: 8.4573\n",
            "Epoch 25/100\n",
            "1/1 [==============================] - 0s 23ms/step - loss: 8.3248 - mae: 8.3248\n",
            "Epoch 26/100\n",
            "1/1 [==============================] - 0s 16ms/step - loss: 8.1923 - mae: 8.1923\n",
            "Epoch 27/100\n",
            "1/1 [==============================] - 0s 27ms/step - loss: 8.0598 - mae: 8.0598\n",
            "Epoch 28/100\n",
            "1/1 [==============================] - 0s 24ms/step - loss: 7.9273 - mae: 7.9273\n",
            "Epoch 29/100\n",
            "1/1 [==============================] - 0s 15ms/step - loss: 7.7948 - mae: 7.7948\n",
            "Epoch 30/100\n",
            "1/1 [==============================] - 0s 18ms/step - loss: 7.6623 - mae: 7.6623\n",
            "Epoch 31/100\n",
            "1/1 [==============================] - 0s 17ms/step - loss: 7.5298 - mae: 7.5298\n",
            "Epoch 32/100\n",
            "1/1 [==============================] - 0s 16ms/step - loss: 7.3973 - mae: 7.3973\n",
            "Epoch 33/100\n",
            "1/1 [==============================] - 0s 16ms/step - loss: 7.2648 - mae: 7.2648\n",
            "Epoch 34/100\n",
            "1/1 [==============================] - 0s 19ms/step - loss: 7.2525 - mae: 7.2525\n",
            "Epoch 35/100\n",
            "1/1 [==============================] - 0s 16ms/step - loss: 7.2469 - mae: 7.2469\n",
            "Epoch 36/100\n",
            "1/1 [==============================] - 0s 15ms/step - loss: 7.2413 - mae: 7.2413\n",
            "Epoch 37/100\n",
            "1/1 [==============================] - 0s 18ms/step - loss: 7.2356 - mae: 7.2356\n",
            "Epoch 38/100\n",
            "1/1 [==============================] - 0s 21ms/step - loss: 7.2300 - mae: 7.2300\n",
            "Epoch 39/100\n",
            "1/1 [==============================] - 0s 19ms/step - loss: 7.2244 - mae: 7.2244\n",
            "Epoch 40/100\n",
            "1/1 [==============================] - 0s 18ms/step - loss: 7.2188 - mae: 7.2188\n",
            "Epoch 41/100\n",
            "1/1 [==============================] - 0s 18ms/step - loss: 7.2131 - mae: 7.2131\n",
            "Epoch 42/100\n",
            "1/1 [==============================] - 0s 14ms/step - loss: 7.2075 - mae: 7.2075\n",
            "Epoch 43/100\n",
            "1/1 [==============================] - 0s 33ms/step - loss: 7.2019 - mae: 7.2019\n",
            "Epoch 44/100\n",
            "1/1 [==============================] - 0s 21ms/step - loss: 7.1963 - mae: 7.1963\n",
            "Epoch 45/100\n",
            "1/1 [==============================] - 0s 13ms/step - loss: 7.1906 - mae: 7.1906\n",
            "Epoch 46/100\n",
            "1/1 [==============================] - 0s 8ms/step - loss: 7.1850 - mae: 7.1850\n",
            "Epoch 47/100\n",
            "1/1 [==============================] - 0s 9ms/step - loss: 7.1794 - mae: 7.1794\n",
            "Epoch 48/100\n",
            "1/1 [==============================] - 0s 9ms/step - loss: 7.1738 - mae: 7.1738\n",
            "Epoch 49/100\n",
            "1/1 [==============================] - 0s 11ms/step - loss: 7.1681 - mae: 7.1681\n",
            "Epoch 50/100\n",
            "1/1 [==============================] - 0s 15ms/step - loss: 7.1625 - mae: 7.1625\n",
            "Epoch 51/100\n",
            "1/1 [==============================] - 0s 21ms/step - loss: 7.1569 - mae: 7.1569\n",
            "Epoch 52/100\n",
            "1/1 [==============================] - 0s 16ms/step - loss: 7.1512 - mae: 7.1512\n",
            "Epoch 53/100\n",
            "1/1 [==============================] - 0s 16ms/step - loss: 7.1456 - mae: 7.1456\n",
            "Epoch 54/100\n",
            "1/1 [==============================] - 0s 17ms/step - loss: 7.1400 - mae: 7.1400\n",
            "Epoch 55/100\n",
            "1/1 [==============================] - 0s 16ms/step - loss: 7.1344 - mae: 7.1344\n",
            "Epoch 56/100\n",
            "1/1 [==============================] - 0s 26ms/step - loss: 7.1287 - mae: 7.1287\n",
            "Epoch 57/100\n",
            "1/1 [==============================] - 0s 34ms/step - loss: 7.1231 - mae: 7.1231\n",
            "Epoch 58/100\n",
            "1/1 [==============================] - 0s 16ms/step - loss: 7.1175 - mae: 7.1175\n",
            "Epoch 59/100\n",
            "1/1 [==============================] - 0s 12ms/step - loss: 7.1119 - mae: 7.1119\n",
            "Epoch 60/100\n",
            "1/1 [==============================] - 0s 11ms/step - loss: 7.1063 - mae: 7.1063\n",
            "Epoch 61/100\n",
            "1/1 [==============================] - 0s 12ms/step - loss: 7.1006 - mae: 7.1006\n",
            "Epoch 62/100\n",
            "1/1 [==============================] - 0s 15ms/step - loss: 7.0950 - mae: 7.0950\n",
            "Epoch 63/100\n",
            "1/1 [==============================] - 0s 13ms/step - loss: 7.0894 - mae: 7.0894\n",
            "Epoch 64/100\n",
            "1/1 [==============================] - 0s 11ms/step - loss: 7.0838 - mae: 7.0838\n",
            "Epoch 65/100\n",
            "1/1 [==============================] - 0s 16ms/step - loss: 7.0781 - mae: 7.0781\n",
            "Epoch 66/100\n",
            "1/1 [==============================] - 0s 27ms/step - loss: 7.0725 - mae: 7.0725\n",
            "Epoch 67/100\n",
            "1/1 [==============================] - 0s 25ms/step - loss: 7.0669 - mae: 7.0669\n",
            "Epoch 68/100\n",
            "1/1 [==============================] - 0s 12ms/step - loss: 7.0613 - mae: 7.0613\n",
            "Epoch 69/100\n",
            "1/1 [==============================] - 0s 13ms/step - loss: 7.0556 - mae: 7.0556\n",
            "Epoch 70/100\n",
            "1/1 [==============================] - 0s 28ms/step - loss: 7.0500 - mae: 7.0500\n",
            "Epoch 71/100\n",
            "1/1 [==============================] - 0s 15ms/step - loss: 7.0444 - mae: 7.0444\n",
            "Epoch 72/100\n",
            "1/1 [==============================] - 0s 17ms/step - loss: 7.0388 - mae: 7.0388\n",
            "Epoch 73/100\n",
            "1/1 [==============================] - 0s 12ms/step - loss: 7.0331 - mae: 7.0331\n",
            "Epoch 74/100\n",
            "1/1 [==============================] - 0s 12ms/step - loss: 7.0275 - mae: 7.0275\n",
            "Epoch 75/100\n",
            "1/1 [==============================] - 0s 15ms/step - loss: 7.0219 - mae: 7.0219\n",
            "Epoch 76/100\n",
            "1/1 [==============================] - 0s 14ms/step - loss: 7.0163 - mae: 7.0163\n",
            "Epoch 77/100\n",
            "1/1 [==============================] - 0s 18ms/step - loss: 7.0106 - mae: 7.0106\n",
            "Epoch 78/100\n",
            "1/1 [==============================] - 0s 10ms/step - loss: 7.0050 - mae: 7.0050\n",
            "Epoch 79/100\n",
            "1/1 [==============================] - 0s 16ms/step - loss: 6.9994 - mae: 6.9994\n",
            "Epoch 80/100\n",
            "1/1 [==============================] - 0s 19ms/step - loss: 6.9938 - mae: 6.9938\n",
            "Epoch 81/100\n",
            "1/1 [==============================] - 0s 16ms/step - loss: 6.9881 - mae: 6.9881\n",
            "Epoch 82/100\n",
            "1/1 [==============================] - 0s 12ms/step - loss: 6.9825 - mae: 6.9825\n",
            "Epoch 83/100\n",
            "1/1 [==============================] - 0s 12ms/step - loss: 6.9769 - mae: 6.9769\n",
            "Epoch 84/100\n",
            "1/1 [==============================] - 0s 17ms/step - loss: 6.9713 - mae: 6.9713\n",
            "Epoch 85/100\n",
            "1/1 [==============================] - 0s 16ms/step - loss: 6.9656 - mae: 6.9656\n",
            "Epoch 86/100\n",
            "1/1 [==============================] - 0s 7ms/step - loss: 6.9600 - mae: 6.9600\n",
            "Epoch 87/100\n",
            "1/1 [==============================] - 0s 12ms/step - loss: 6.9544 - mae: 6.9544\n",
            "Epoch 88/100\n",
            "1/1 [==============================] - 0s 9ms/step - loss: 6.9488 - mae: 6.9488\n",
            "Epoch 89/100\n",
            "1/1 [==============================] - 0s 22ms/step - loss: 6.9431 - mae: 6.9431\n",
            "Epoch 90/100\n",
            "1/1 [==============================] - 0s 12ms/step - loss: 6.9375 - mae: 6.9375\n",
            "Epoch 91/100\n",
            "1/1 [==============================] - 0s 8ms/step - loss: 6.9319 - mae: 6.9319\n",
            "Epoch 92/100\n",
            "1/1 [==============================] - 0s 10ms/step - loss: 6.9263 - mae: 6.9263\n",
            "Epoch 93/100\n",
            "1/1 [==============================] - 0s 12ms/step - loss: 6.9206 - mae: 6.9206\n",
            "Epoch 94/100\n",
            "1/1 [==============================] - 0s 11ms/step - loss: 6.9150 - mae: 6.9150\n",
            "Epoch 95/100\n",
            "1/1 [==============================] - 0s 25ms/step - loss: 6.9094 - mae: 6.9094\n",
            "Epoch 96/100\n",
            "1/1 [==============================] - 0s 18ms/step - loss: 6.9038 - mae: 6.9038\n",
            "Epoch 97/100\n",
            "1/1 [==============================] - 0s 19ms/step - loss: 6.8981 - mae: 6.8981\n",
            "Epoch 98/100\n",
            "1/1 [==============================] - 0s 16ms/step - loss: 6.8925 - mae: 6.8925\n",
            "Epoch 99/100\n",
            "1/1 [==============================] - 0s 15ms/step - loss: 6.8869 - mae: 6.8869\n",
            "Epoch 100/100\n",
            "1/1 [==============================] - 0s 17ms/step - loss: 6.8813 - mae: 6.8813\n"
          ]
        },
        {
          "output_type": "execute_result",
          "data": {
            "text/plain": [
              "<keras.callbacks.History at 0x7fae3a71f910>"
            ]
          },
          "metadata": {},
          "execution_count": 8
        }
      ]
    },
    {
      "cell_type": "code",
      "source": [
        "# Remind ourselves ourselves of what x and y are\n",
        "x, y"
      ],
      "metadata": {
        "colab": {
          "base_uri": "https://localhost:8080/",
          "height": 0
        },
        "id": "0DnagVI9IzRP",
        "outputId": "6fab1779-33d5-4cce-d74a-fff59632473f"
      },
      "execution_count": 9,
      "outputs": [
        {
          "output_type": "execute_result",
          "data": {
            "text/plain": [
              "(array([-7., -4., -1.,  2.,  5.,  8., 11., 14.]),\n",
              " array([ 3.,  6.,  9., 12., 15., 18., 21., 24.]))"
            ]
          },
          "metadata": {},
          "execution_count": 9
        }
      ]
    },
    {
      "cell_type": "code",
      "source": [
        "# Try and predict what y would be if x was 17.0\n",
        "model.predict([17.0]) # the right answr is 27.0 (y= x + 10)"
      ],
      "metadata": {
        "colab": {
          "base_uri": "https://localhost:8080/",
          "height": 0
        },
        "id": "lTUpgqSFI6_-",
        "outputId": "c41d1047-9031-464f-be30-64274e9ccc47"
      },
      "execution_count": 10,
      "outputs": [
        {
          "output_type": "stream",
          "name": "stdout",
          "text": [
            "1/1 [==============================] - 0s 255ms/step\n"
          ]
        },
        {
          "output_type": "execute_result",
          "data": {
            "text/plain": [
              "array([[30.158512]], dtype=float32)"
            ]
          },
          "metadata": {},
          "execution_count": 10
        }
      ]
    },
    {
      "cell_type": "markdown",
      "source": [
        "We get closer this time but we can still be better"
      ],
      "metadata": {
        "id": "L6jCvDtlJIf3"
      }
    },
    {
      "cell_type": "code",
      "source": [
        "# Make a bigger data set\n",
        "x = np.arange(-100,100,4)\n",
        "x"
      ],
      "metadata": {
        "colab": {
          "base_uri": "https://localhost:8080/",
          "height": 0
        },
        "id": "covAU3uIJOpH",
        "outputId": "61d09105-722e-4756-b74e-426b9a565fa1"
      },
      "execution_count": 11,
      "outputs": [
        {
          "output_type": "execute_result",
          "data": {
            "text/plain": [
              "array([-100,  -96,  -92,  -88,  -84,  -80,  -76,  -72,  -68,  -64,  -60,\n",
              "        -56,  -52,  -48,  -44,  -40,  -36,  -32,  -28,  -24,  -20,  -16,\n",
              "        -12,   -8,   -4,    0,    4,    8,   12,   16,   20,   24,   28,\n",
              "         32,   36,   40,   44,   48,   52,   56,   60,   64,   68,   72,\n",
              "         76,   80,   84,   88,   92,   96])"
            ]
          },
          "metadata": {},
          "execution_count": 11
        }
      ]
    },
    {
      "cell_type": "code",
      "source": [
        "# Make labels for the dataset (adhering to the same pattern as before)\n",
        "y = np.arange(-90, 110, 4)\n",
        "y"
      ],
      "metadata": {
        "colab": {
          "base_uri": "https://localhost:8080/",
          "height": 0
        },
        "id": "CO-Y0U_DJufw",
        "outputId": "74315377-6dee-4be1-da39-563067e024ed"
      },
      "execution_count": 12,
      "outputs": [
        {
          "output_type": "execute_result",
          "data": {
            "text/plain": [
              "array([-90, -86, -82, -78, -74, -70, -66, -62, -58, -54, -50, -46, -42,\n",
              "       -38, -34, -30, -26, -22, -18, -14, -10,  -6,  -2,   2,   6,  10,\n",
              "        14,  18,  22,  26,  30,  34,  38,  42,  46,  50,  54,  58,  62,\n",
              "        66,  70,  74,  78,  82,  86,  90,  94,  98, 102, 106])"
            ]
          },
          "metadata": {},
          "execution_count": 12
        }
      ]
    },
    {
      "cell_type": "code",
      "source": [
        "len(x)"
      ],
      "metadata": {
        "colab": {
          "base_uri": "https://localhost:8080/",
          "height": 0
        },
        "id": "w6LpNzYBJ7_5",
        "outputId": "bdba132b-d4a3-455b-d31c-b35d89e869db"
      },
      "execution_count": 13,
      "outputs": [
        {
          "output_type": "execute_result",
          "data": {
            "text/plain": [
              "50"
            ]
          },
          "metadata": {},
          "execution_count": 13
        }
      ]
    },
    {
      "cell_type": "code",
      "source": [
        "# Split data into train and test sets\n",
        "x_train = x[:40] # first 40 examples (80% of data)\n",
        "y_train = y[:40] # last 10 examples (20% of data)\n",
        "\n",
        "x_test = x[40:] # last 10 examples (20% of data)\n",
        "y_test = y[40:]\n",
        "\n",
        "len(x_train), len(x_test)"
      ],
      "metadata": {
        "colab": {
          "base_uri": "https://localhost:8080/",
          "height": 0
        },
        "id": "uCHz-ArcKlgL",
        "outputId": "8e5a9a5f-dda1-48fc-f96e-6b1a09e1d979"
      },
      "execution_count": 14,
      "outputs": [
        {
          "output_type": "execute_result",
          "data": {
            "text/plain": [
              "(40, 10)"
            ]
          },
          "metadata": {},
          "execution_count": 14
        }
      ]
    },
    {
      "cell_type": "code",
      "source": [
        "tf.random.set_seed(42)\n",
        "\n",
        "# Create a model (same as above)\n",
        "model = tf.keras.Sequential([\n",
        "    tf.keras.layers.Dense(1, input_shape=[1]) # define the input_shape to our model\n",
        "])\n",
        "\n",
        "model.compile(loss=tf.keras.losses.mae,\n",
        "              optimizer=tf.keras.optimizers.SGD(),\n",
        "              metrics=[\"mae\"])"
      ],
      "metadata": {
        "id": "Kg1zT0IaLMM9"
      },
      "execution_count": 15,
      "outputs": []
    },
    {
      "cell_type": "code",
      "source": [
        "model.summary()"
      ],
      "metadata": {
        "colab": {
          "base_uri": "https://localhost:8080/",
          "height": 0
        },
        "id": "smyouQuMMKgX",
        "outputId": "45382b20-37d6-4bd1-8e37-991fc4ffbc42"
      },
      "execution_count": 16,
      "outputs": [
        {
          "output_type": "stream",
          "name": "stdout",
          "text": [
            "Model: \"sequential_2\"\n",
            "_________________________________________________________________\n",
            " Layer (type)                Output Shape              Param #   \n",
            "=================================================================\n",
            " dense_2 (Dense)             (None, 1)                 2         \n",
            "                                                                 \n",
            "=================================================================\n",
            "Total params: 2\n",
            "Trainable params: 2\n",
            "Non-trainable params: 0\n",
            "_________________________________________________________________\n"
          ]
        }
      ]
    },
    {
      "cell_type": "code",
      "source": [
        "model.fit(x_train, y_train, epochs=100, verbose=0) # verbose controls how much gets output"
      ],
      "metadata": {
        "colab": {
          "base_uri": "https://localhost:8080/",
          "height": 0
        },
        "id": "IjAXGaGMMWdX",
        "outputId": "4d64de2f-b928-4a72-d25f-7eeecf841ddc"
      },
      "execution_count": 17,
      "outputs": [
        {
          "output_type": "execute_result",
          "data": {
            "text/plain": [
              "<keras.callbacks.History at 0x7fae3b621a50>"
            ]
          },
          "metadata": {},
          "execution_count": 17
        }
      ]
    },
    {
      "cell_type": "code",
      "source": [
        "model.summary()"
      ],
      "metadata": {
        "colab": {
          "base_uri": "https://localhost:8080/",
          "height": 0
        },
        "id": "N4DTcvgGMxyI",
        "outputId": "5f03ba3f-e194-44d5-e748-fa505949b38a"
      },
      "execution_count": 18,
      "outputs": [
        {
          "output_type": "stream",
          "name": "stdout",
          "text": [
            "Model: \"sequential_2\"\n",
            "_________________________________________________________________\n",
            " Layer (type)                Output Shape              Param #   \n",
            "=================================================================\n",
            " dense_2 (Dense)             (None, 1)                 2         \n",
            "                                                                 \n",
            "=================================================================\n",
            "Total params: 2\n",
            "Trainable params: 2\n",
            "Non-trainable params: 0\n",
            "_________________________________________________________________\n"
          ]
        }
      ]
    },
    {
      "cell_type": "markdown",
      "source": [
        "Alongside summary, you can also view a 2D plot of the model using plot_model()"
      ],
      "metadata": {
        "id": "Cf8ahpsuM07Z"
      }
    },
    {
      "cell_type": "code",
      "source": [
        "from tensorflow.keras.utils import plot_model\n",
        "plot_model(model, show_shapes=True)"
      ],
      "metadata": {
        "colab": {
          "base_uri": "https://localhost:8080/",
          "height": 201
        },
        "id": "LLMOKPGJNB3C",
        "outputId": "966c62b3-43f8-44cd-8b66-4d3e03bc0e66"
      },
      "execution_count": 19,
      "outputs": [
        {
          "output_type": "execute_result",
          "data": {
            "image/png": "[encoded data removed]",
            "text/plain": [
              "<IPython.core.display.Image object>"
            ]
          },
          "metadata": {},
          "execution_count": 19
        }
      ]
    },
    {
      "cell_type": "code",
      "source": [
        "y_preds = model.predict(x_test)\n",
        "y_preds"
      ],
      "metadata": {
        "colab": {
          "base_uri": "https://localhost:8080/",
          "height": 0
        },
        "id": "iK6oljfhNYta",
        "outputId": "04aafa27-db7d-4c5b-a207-0af3251cd349"
      },
      "execution_count": 20,
      "outputs": [
        {
          "output_type": "stream",
          "name": "stdout",
          "text": [
            "1/1 [==============================] - 0s 86ms/step\n"
          ]
        },
        {
          "output_type": "execute_result",
          "data": {
            "text/plain": [
              "array([[53.57109 ],\n",
              "       [57.05633 ],\n",
              "       [60.541573],\n",
              "       [64.02681 ],\n",
              "       [67.512054],\n",
              "       [70.99729 ],\n",
              "       [74.48254 ],\n",
              "       [77.96777 ],\n",
              "       [81.45301 ],\n",
              "       [84.938255]], dtype=float32)"
            ]
          },
          "metadata": {},
          "execution_count": 20
        }
      ]
    },
    {
      "cell_type": "code",
      "source": [
        "def plot_predictions(train_data=x_train,\n",
        "                     train_labels=y_train,\n",
        "                     test_data=x_test,\n",
        "                     test_labels=y_test,\n",
        "                     predictions=y_preds):\n",
        "  \n",
        "  plt.figure(figsize=(10,7))\n",
        "  plt.scatter(train_data, train_labels, c=\"b\", label=\"Training data\")\n",
        "  plt.scatter(test_data, test_labels, c=\"g\", label=\"Testing data\")\n",
        "  plt.scatter(test_data, predictions, c=\"r\", label=\"Predictions\")\n",
        "  plt.legend();\n"
      ],
      "metadata": {
        "id": "HDNr02eQNtC8"
      },
      "execution_count": 21,
      "outputs": []
    },
    {
      "cell_type": "code",
      "source": [
        "plot_predictions(train_data=x_train,\n",
        "                     train_labels=y_train,\n",
        "                     test_data=x_test,\n",
        "                     test_labels=y_test,\n",
        "                     predictions=y_preds)"
      ],
      "metadata": {
        "colab": {
          "base_uri": "https://localhost:8080/",
          "height": 428
        },
        "id": "hcL50Os2OhTF",
        "outputId": "de344a35-3a76-4eb3-955f-403b6708ea9a"
      },
      "execution_count": 22,
      "outputs": [
        {
          "output_type": "display_data",
          "data": {
            "text/plain": [
              "<Figure size 720x504 with 1 Axes>"
            ],
            "image/png": "[encoded data removed]"
          },
          "metadata": {
            "needs_background": "light"
          }
        }
      ]
    },
    {
      "cell_type": "code",
      "source": [
        "tf.random.set_seed(42)\n",
        "\n",
        "# Replicate first model and add 4 extra layers\n",
        "model_1 = tf.keras.Sequential([\n",
        "    tf.keras.layers.Dense(1),\n",
        "    tf.keras.layers.Dense(1),\n",
        "    tf.keras.layers.Dense(1),\n",
        "    tf.keras.layers.Dense(1)\n",
        "])\n",
        "\n",
        "# Compile the model \n",
        "model_1.compile(loss=tf.keras.losses.mae,\n",
        "                optimizer=tf.keras.optimizers.SGD(),\n",
        "                metrics=[\"mae\"])\n",
        "\n",
        "# Fit the model\n",
        "model_1.fit(tf.expand_dims(x_train, axis=-1), y_train, epochs=100, verbose=0) # set verbose to 0 for less output"
      ],
      "metadata": {
        "id": "960nO9pwO68Y",
        "colab": {
          "base_uri": "https://localhost:8080/",
          "height": 0
        },
        "outputId": "3c8cf849-c6b8-4b35-d719-ff0a50332520"
      },
      "execution_count": 23,
      "outputs": [
        {
          "output_type": "execute_result",
          "data": {
            "text/plain": [
              "<keras.callbacks.History at 0x7fae3be1e150>"
            ]
          },
          "metadata": {},
          "execution_count": 23
        }
      ]
    },
    {
      "cell_type": "code",
      "source": [
        "y_preds_1 = model_1.predict(x_test)\n",
        "plot_predictions(predictions=y_preds_1)"
      ],
      "metadata": {
        "colab": {
          "base_uri": "https://localhost:8080/",
          "height": 445
        },
        "id": "8wO6QxPdfg1h",
        "outputId": "ad5039e5-2b8e-44a9-9f60-324695dab62a"
      },
      "execution_count": 24,
      "outputs": [
        {
          "output_type": "stream",
          "name": "stdout",
          "text": [
            "1/1 [==============================] - 0s 124ms/step\n"
          ]
        },
        {
          "output_type": "display_data",
          "data": {
            "text/plain": [
              "<Figure size 720x504 with 1 Axes>"
            ],
            "image/png": "[encoded data removed]"
          },
          "metadata": {
            "needs_background": "light"
          }
        }
      ]
    },
    {
      "cell_type": "code",
      "source": [
        "def mae(y_test, y_pred):\n",
        "  \"\"\"\n",
        "  Calculates mean absolute error between y_test and y_preds\n",
        "  \"\"\"\n",
        "  return tf.metrics.mean_absolute_error(y_test,\n",
        "                                        y_pred)\n",
        "  \n",
        "def mse(y_test, y_pred):\n",
        "  \"\"\"\n",
        "  Cacluates mean squared error between y_test and y_preds\n",
        "  \"\"\"\n",
        "  return tf.metrics.mean_squared_error(y_test,\n",
        "                                       y_pred)"
      ],
      "metadata": {
        "id": "238eRxFYhC8O"
      },
      "execution_count": 25,
      "outputs": []
    },
    {
      "cell_type": "code",
      "source": [
        "# calculate model_1 metrics\n",
        "mae_1 = mae(y_test, y_preds_1.squeeze()).numpy()\n",
        "mse_1 = mse(y_test, y_preds_1.squeeze()).numpy()\n",
        "mae_1, mse_1"
      ],
      "metadata": {
        "colab": {
          "base_uri": "https://localhost:8080/",
          "height": 0
        },
        "id": "ahq-rR0Df3_9",
        "outputId": "d8b31205-464e-48d7-c588-8b4e7496d0fd"
      },
      "execution_count": 26,
      "outputs": [
        {
          "output_type": "execute_result",
          "data": {
            "text/plain": [
              "(46.737812, 2250.9536)"
            ]
          },
          "metadata": {},
          "execution_count": 26
        }
      ]
    },
    {
      "cell_type": "code",
      "source": [
        "tf.random.set_seed(42)\n",
        "\n",
        "# Replicate first model and add 4 extra layers\n",
        "model_2 = tf.keras.Sequential([\n",
        "    tf.keras.layers.Dense(1),\n",
        "    tf.keras.layers.Dense(1),\n",
        "    tf.keras.layers.Dense(1),\n",
        "    tf.keras.layers.Dense(1)\n",
        "])\n",
        "\n",
        "# Compile the model \n",
        "model_2.compile(loss=tf.keras.losses.mae,\n",
        "                optimizer=tf.keras.optimizers.SGD(),\n",
        "                metrics=[\"mae\"])\n",
        "\n",
        "# Fit the model\n",
        "model_2.fit(tf.expand_dims(x_train, axis=-1), y_train, epochs=500, verbose=0)"
      ],
      "metadata": {
        "colab": {
          "base_uri": "https://localhost:8080/",
          "height": 0
        },
        "id": "pOm14kWsgtpY",
        "outputId": "ca2c632e-ac13-45e7-af6a-1738b09aba1c"
      },
      "execution_count": 27,
      "outputs": [
        {
          "output_type": "execute_result",
          "data": {
            "text/plain": [
              "<keras.callbacks.History at 0x7fae3a74ed10>"
            ]
          },
          "metadata": {},
          "execution_count": 27
        }
      ]
    },
    {
      "cell_type": "code",
      "source": [
        "y_preds_2 = model_2.predict(x_test)\n",
        "plot_predictions(predictions=y_preds_2)"
      ],
      "metadata": {
        "colab": {
          "base_uri": "https://localhost:8080/",
          "height": 483
        },
        "id": "UVUJzO80iUjU",
        "outputId": "bb9b6109-2954-4a8f-ebb8-e9816870f143"
      },
      "execution_count": 28,
      "outputs": [
        {
          "output_type": "stream",
          "name": "stderr",
          "text": [
            "WARNING:tensorflow:5 out of the last 5 calls to <function Model.make_predict_function.<locals>.predict_function at 0x7fae3ad50e60> triggered tf.function retracing. Tracing is expensive and the excessive number of tracings could be due to (1) creating @tf.function repeatedly in a loop, (2) passing tensors with different shapes, (3) passing Python objects instead of tensors. For (1), please define your @tf.function outside of the loop. For (2), @tf.function has reduce_retracing=True option that can avoid unnecessary retracing. For (3), please refer to https://www.tensorflow.org/guide/function#controlling_retracing and https://www.tensorflow.org/api_docs/python/tf/function for  more details.\n"
          ]
        },
        {
          "output_type": "stream",
          "name": "stdout",
          "text": [
            "1/1 [==============================] - 0s 68ms/step\n"
          ]
        },
        {
          "output_type": "display_data",
          "data": {
            "text/plain": [
              "<Figure size 720x504 with 1 Axes>"
            ],
            "image/png": "[encoded data removed]"
          },
          "metadata": {
            "needs_background": "light"
          }
        }
      ]
    },
    {
      "cell_type": "code",
      "source": [
        "# Calculate model_2 metrics\n",
        "mae_2 = mae(y_test, y_preds_2.squeeze()).numpy()\n",
        "mse_2 = mse(y_test, y_preds_2.squeeze()).numpy()\n",
        "mae_2, mse_2"
      ],
      "metadata": {
        "colab": {
          "base_uri": "https://localhost:8080/",
          "height": 0
        },
        "id": "aBDMR0P4ifOU",
        "outputId": "8ab47cbf-259c-44f1-a254-b2cf6018fb9c"
      },
      "execution_count": 29,
      "outputs": [
        {
          "output_type": "execute_result",
          "data": {
            "text/plain": [
              "(88.09469, 7892.6797)"
            ]
          },
          "metadata": {},
          "execution_count": 29
        }
      ]
    },
    {
      "cell_type": "code",
      "source": [
        "model_results = [[\"model\", mae, mse],\n",
        "                 [\"model_1\", mae_1, mse_1],\n",
        "                 [\"model_2\", mae_2, mse_2]]"
      ],
      "metadata": {
        "id": "2PpeRwtajVJb"
      },
      "execution_count": 30,
      "outputs": []
    },
    {
      "cell_type": "code",
      "source": [
        "import pandas as pd\n",
        "all_results = pd.DataFrame(model_results, columns=[\"model\", \"mae\", \"mse\"])\n",
        "all_results"
      ],
      "metadata": {
        "colab": {
          "base_uri": "https://localhost:8080/",
          "height": 143
        },
        "id": "k73SydDli2Pm",
        "outputId": "83599b6f-ad50-49a9-c400-3433d20b3c83"
      },
      "execution_count": 31,
      "outputs": [
        {
          "output_type": "execute_result",
          "data": {
            "text/plain": [
              "     model                               mae                               mse\n",
              "0    model  <function mae at 0x7fae3bcf5e60>  <function mse at 0x7fae3bcf5f80>\n",
              "1  model_1                         46.737812                       2250.953613\n",
              "2  model_2                         88.094688                       7892.679688"
            ],
            "text/html": [
              "\n",
              "  <div id=\"df-cadd1d48-2eef-477c-8dc0-8640142a1a18\">\n",
              "    <div class=\"colab-df-container\">\n",
              "      <div>\n",
              "<style scoped>\n",
              "    .dataframe tbody tr th:only-of-type {\n",
              "        vertical-align: middle;\n",
              "    }\n",
              "\n",
              "    .dataframe tbody tr th {\n",
              "        vertical-align: top;\n",
              "    }\n",
              "\n",
              "    .dataframe thead th {\n",
              "        text-align: right;\n",
              "    }\n",
              "</style>\n",
              "<table border=\"1\" class=\"dataframe\">\n",
              "  <thead>\n",
              "    <tr style=\"text-align: right;\">\n",
              "      <th></th>\n",
              "      <th>model</th>\n",
              "      <th>mae</th>\n",
              "      <th>mse</th>\n",
              "    </tr>\n",
              "  </thead>\n",
              "  <tbody>\n",
              "    <tr>\n",
              "      <th>0</th>\n",
              "      <td>model</td>\n",
              "      <td>&lt;function mae at 0x7fae3bcf5e60&gt;</td>\n",
              "      <td>&lt;function mse at 0x7fae3bcf5f80&gt;</td>\n",
              "    </tr>\n",
              "    <tr>\n",
              "      <th>1</th>\n",
              "      <td>model_1</td>\n",
              "      <td>46.737812</td>\n",
              "      <td>2250.953613</td>\n",
              "    </tr>\n",
              "    <tr>\n",
              "      <th>2</th>\n",
              "      <td>model_2</td>\n",
              "      <td>88.094688</td>\n",
              "      <td>7892.679688</td>\n",
              "    </tr>\n",
              "  </tbody>\n",
              "</table>\n",
              "</div>\n",
              "      <button class=\"colab-df-convert\" onclick=\"convertToInteractive('df-cadd1d48-2eef-477c-8dc0-8640142a1a18')\"\n",
              "              title=\"Convert this dataframe to an interactive table.\"\n",
              "              style=\"display:none;\">\n",
              "        \n",
              "  <svg xmlns=\"http://www.w3.org/2000/svg\" height=\"24px\"viewBox=\"0 0 24 24\"\n",
              "       width=\"24px\">\n",
              "    <path d=\"M0 0h24v24H0V0z\" fill=\"none\"/>\n",
              "    <path d=\"M18.56 5.44l.94 2.06.94-2.06 2.06-.94-2.06-.94-.94-2.06-.94 2.06-2.06.94zm-11 1L8.5 8.5l.94-2.06 2.06-.94-2.06-.94L8.5 2.5l-.94 2.06-2.06.94zm10 10l.94 2.06.94-2.06 2.06-.94-2.06-.94-.94-2.06-.94 2.06-2.06.94z\"/><path d=\"M17.41 7.96l-1.37-1.37c-.4-.4-.92-.59-1.43-.59-.52 0-1.04.2-1.43.59L10.3 9.45l-7.72 7.72c-.78.78-.78 2.05 0 2.83L4 21.41c.39.39.9.59 1.41.59.51 0 1.02-.2 1.41-.59l7.78-7.78 2.81-2.81c.8-.78.8-2.07 0-2.86zM5.41 20L4 18.59l7.72-7.72 1.47 1.35L5.41 20z\"/>\n",
              "  </svg>\n",
              "      </button>\n",
              "      \n",
              "  <style>\n",
              "    .colab-df-container {\n",
              "      display:flex;\n",
              "      flex-wrap:wrap;\n",
              "      gap: 12px;\n",
              "    }\n",
              "\n",
              "    .colab-df-convert {\n",
              "      background-color: #E8F0FE;\n",
              "      border: none;\n",
              "      border-radius: 50%;\n",
              "      cursor: pointer;\n",
              "      display: none;\n",
              "      fill: #1967D2;\n",
              "      height: 32px;\n",
              "      padding: 0 0 0 0;\n",
              "      width: 32px;\n",
              "    }\n",
              "\n",
              "    .colab-df-convert:hover {\n",
              "      background-color: #E2EBFA;\n",
              "      box-shadow: 0px 1px 2px rgba(60, 64, 67, 0.3), 0px 1px 3px 1px rgba(60, 64, 67, 0.15);\n",
              "      fill: #174EA6;\n",
              "    }\n",
              "\n",
              "    [theme=dark] .colab-df-convert {\n",
              "      background-color: #3B4455;\n",
              "      fill: #D2E3FC;\n",
              "    }\n",
              "\n",
              "    [theme=dark] .colab-df-convert:hover {\n",
              "      background-color: #434B5C;\n",
              "      box-shadow: 0px 1px 3px 1px rgba(0, 0, 0, 0.15);\n",
              "      filter: drop-shadow(0px 1px 2px rgba(0, 0, 0, 0.3));\n",
              "      fill: #FFFFFF;\n",
              "    }\n",
              "  </style>\n",
              "\n",
              "      <script>\n",
              "        const buttonEl =\n",
              "          document.querySelector('#df-cadd1d48-2eef-477c-8dc0-8640142a1a18 button.colab-df-convert');\n",
              "        buttonEl.style.display =\n",
              "          google.colab.kernel.accessAllowed ? 'block' : 'none';\n",
              "\n",
              "        async function convertToInteractive(key) {\n",
              "          const element = document.querySelector('#df-cadd1d48-2eef-477c-8dc0-8640142a1a18');\n",
              "          const dataTable =\n",
              "            await google.colab.kernel.invokeFunction('convertToInteractive',\n",
              "                                                     [key], {});\n",
              "          if (!dataTable) return;\n",
              "\n",
              "          const docLinkHtml = 'Like what you see? Visit the ' +\n",
              "            '<a target=\"_blank\" href=https://colab.research.google.com/notebooks/data_table.ipynb>data table notebook</a>'\n",
              "            + ' to learn more about interactive tables.';\n",
              "          element.innerHTML = '';\n",
              "          dataTable['output_type'] = 'display_data';\n",
              "          await google.colab.output.renderOutput(dataTable, element);\n",
              "          const docLink = document.createElement('div');\n",
              "          docLink.innerHTML = docLinkHtml;\n",
              "          element.appendChild(docLink);\n",
              "        }\n",
              "      </script>\n",
              "    </div>\n",
              "  </div>\n",
              "  "
            ]
          },
          "metadata": {},
          "execution_count": 31
        }
      ]
    },
    {
      "cell_type": "code",
      "source": [
        "# Save a model using the SavedModel format\n",
        "model_1.save('best_model_SavedModel_format')"
      ],
      "metadata": {
        "id": "zoxME7zqjRLG"
      },
      "execution_count": 32,
      "outputs": []
    },
    {
      "cell_type": "code",
      "source": [
        "!ls best_model_SavedModel__format"
      ],
      "metadata": {
        "colab": {
          "base_uri": "https://localhost:8080/",
          "height": 0
        },
        "id": "JSTjsM-dkfC3",
        "outputId": "4cf9a640-0afd-41d2-f599-75f3d27951cd"
      },
      "execution_count": 33,
      "outputs": [
        {
          "output_type": "stream",
          "name": "stdout",
          "text": [
            "ls: cannot access 'best_model_SavedModel__format': No such file or directory\n"
          ]
        }
      ]
    },
    {
      "cell_type": "code",
      "source": [
        "model_1.save(\"best_model_HDF5_format.h5\")"
      ],
      "metadata": {
        "id": "GBsw0xQckoEx"
      },
      "execution_count": 34,
      "outputs": []
    },
    {
      "cell_type": "code",
      "source": [
        "!ls best_model_HDF5_format.h5"
      ],
      "metadata": {
        "colab": {
          "base_uri": "https://localhost:8080/",
          "height": 0
        },
        "id": "9ztN1eeZlV2u",
        "outputId": "f41e9e43-f8ed-48e3-acff-f5ea71e4f71a"
      },
      "execution_count": 35,
      "outputs": [
        {
          "output_type": "stream",
          "name": "stdout",
          "text": [
            "best_model_HDF5_format.h5\n"
          ]
        }
      ]
    },
    {
      "cell_type": "code",
      "source": [
        "import tensorflow as tf\n",
        "import pandas as pd\n",
        "import matplotlib.pyplot as plt"
      ],
      "metadata": {
        "id": "OP7dDs8mlajl"
      },
      "execution_count": 36,
      "outputs": []
    },
    {
      "cell_type": "code",
      "source": [
        "insurance = pd.read_csv(\"https://raw.githubusercontent.com/stedy/Machine-Learning-with-R-datasets/master/insurance.csv\")"
      ],
      "metadata": {
        "id": "rPxmN5ChnHT-"
      },
      "execution_count": 37,
      "outputs": []
    },
    {
      "cell_type": "code",
      "source": [
        "insurance.head()"
      ],
      "metadata": {
        "colab": {
          "base_uri": "https://localhost:8080/",
          "height": 206
        },
        "id": "8vHym4ZlnR1E",
        "outputId": "a83ade1f-f435-4c4a-f05d-700f192133f1"
      },
      "execution_count": 38,
      "outputs": [
        {
          "output_type": "execute_result",
          "data": {
            "text/plain": [
              "   age     sex     bmi  children smoker     region      charges\n",
              "0   19  female  27.900         0    yes  southwest  16884.92400\n",
              "1   18    male  33.770         1     no  southeast   1725.55230\n",
              "2   28    male  33.000         3     no  southeast   4449.46200\n",
              "3   33    male  22.705         0     no  northwest  21984.47061\n",
              "4   32    male  28.880         0     no  northwest   3866.85520"
            ],
            "text/html": [
              "\n",
              "  <div id=\"df-1df3f2da-44c6-47a0-b9ac-494281b8520e\">\n",
              "    <div class=\"colab-df-container\">\n",
              "      <div>\n",
              "<style scoped>\n",
              "    .dataframe tbody tr th:only-of-type {\n",
              "        vertical-align: middle;\n",
              "    }\n",
              "\n",
              "    .dataframe tbody tr th {\n",
              "        vertical-align: top;\n",
              "    }\n",
              "\n",
              "    .dataframe thead th {\n",
              "        text-align: right;\n",
              "    }\n",
              "</style>\n",
              "<table border=\"1\" class=\"dataframe\">\n",
              "  <thead>\n",
              "    <tr style=\"text-align: right;\">\n",
              "      <th></th>\n",
              "      <th>age</th>\n",
              "      <th>sex</th>\n",
              "      <th>bmi</th>\n",
              "      <th>children</th>\n",
              "      <th>smoker</th>\n",
              "      <th>region</th>\n",
              "      <th>charges</th>\n",
              "    </tr>\n",
              "  </thead>\n",
              "  <tbody>\n",
              "    <tr>\n",
              "      <th>0</th>\n",
              "      <td>19</td>\n",
              "      <td>female</td>\n",
              "      <td>27.900</td>\n",
              "      <td>0</td>\n",
              "      <td>yes</td>\n",
              "      <td>southwest</td>\n",
              "      <td>16884.92400</td>\n",
              "    </tr>\n",
              "    <tr>\n",
              "      <th>1</th>\n",
              "      <td>18</td>\n",
              "      <td>male</td>\n",
              "      <td>33.770</td>\n",
              "      <td>1</td>\n",
              "      <td>no</td>\n",
              "      <td>southeast</td>\n",
              "      <td>1725.55230</td>\n",
              "    </tr>\n",
              "    <tr>\n",
              "      <th>2</th>\n",
              "      <td>28</td>\n",
              "      <td>male</td>\n",
              "      <td>33.000</td>\n",
              "      <td>3</td>\n",
              "      <td>no</td>\n",
              "      <td>southeast</td>\n",
              "      <td>4449.46200</td>\n",
              "    </tr>\n",
              "    <tr>\n",
              "      <th>3</th>\n",
              "      <td>33</td>\n",
              "      <td>male</td>\n",
              "      <td>22.705</td>\n",
              "      <td>0</td>\n",
              "      <td>no</td>\n",
              "      <td>northwest</td>\n",
              "      <td>21984.47061</td>\n",
              "    </tr>\n",
              "    <tr>\n",
              "      <th>4</th>\n",
              "      <td>32</td>\n",
              "      <td>male</td>\n",
              "      <td>28.880</td>\n",
              "      <td>0</td>\n",
              "      <td>no</td>\n",
              "      <td>northwest</td>\n",
              "      <td>3866.85520</td>\n",
              "    </tr>\n",
              "  </tbody>\n",
              "</table>\n",
              "</div>\n",
              "      <button class=\"colab-df-convert\" onclick=\"convertToInteractive('df-1df3f2da-44c6-47a0-b9ac-494281b8520e')\"\n",
              "              title=\"Convert this dataframe to an interactive table.\"\n",
              "              style=\"display:none;\">\n",
              "        \n",
              "  <svg xmlns=\"http://www.w3.org/2000/svg\" height=\"24px\"viewBox=\"0 0 24 24\"\n",
              "       width=\"24px\">\n",
              "    <path d=\"M0 0h24v24H0V0z\" fill=\"none\"/>\n",
              "    <path d=\"M18.56 5.44l.94 2.06.94-2.06 2.06-.94-2.06-.94-.94-2.06-.94 2.06-2.06.94zm-11 1L8.5 8.5l.94-2.06 2.06-.94-2.06-.94L8.5 2.5l-.94 2.06-2.06.94zm10 10l.94 2.06.94-2.06 2.06-.94-2.06-.94-.94-2.06-.94 2.06-2.06.94z\"/><path d=\"M17.41 7.96l-1.37-1.37c-.4-.4-.92-.59-1.43-.59-.52 0-1.04.2-1.43.59L10.3 9.45l-7.72 7.72c-.78.78-.78 2.05 0 2.83L4 21.41c.39.39.9.59 1.41.59.51 0 1.02-.2 1.41-.59l7.78-7.78 2.81-2.81c.8-.78.8-2.07 0-2.86zM5.41 20L4 18.59l7.72-7.72 1.47 1.35L5.41 20z\"/>\n",
              "  </svg>\n",
              "      </button>\n",
              "      \n",
              "  <style>\n",
              "    .colab-df-container {\n",
              "      display:flex;\n",
              "      flex-wrap:wrap;\n",
              "      gap: 12px;\n",
              "    }\n",
              "\n",
              "    .colab-df-convert {\n",
              "      background-color: #E8F0FE;\n",
              "      border: none;\n",
              "      border-radius: 50%;\n",
              "      cursor: pointer;\n",
              "      display: none;\n",
              "      fill: #1967D2;\n",
              "      height: 32px;\n",
              "      padding: 0 0 0 0;\n",
              "      width: 32px;\n",
              "    }\n",
              "\n",
              "    .colab-df-convert:hover {\n",
              "      background-color: #E2EBFA;\n",
              "      box-shadow: 0px 1px 2px rgba(60, 64, 67, 0.3), 0px 1px 3px 1px rgba(60, 64, 67, 0.15);\n",
              "      fill: #174EA6;\n",
              "    }\n",
              "\n",
              "    [theme=dark] .colab-df-convert {\n",
              "      background-color: #3B4455;\n",
              "      fill: #D2E3FC;\n",
              "    }\n",
              "\n",
              "    [theme=dark] .colab-df-convert:hover {\n",
              "      background-color: #434B5C;\n",
              "      box-shadow: 0px 1px 3px 1px rgba(0, 0, 0, 0.15);\n",
              "      filter: drop-shadow(0px 1px 2px rgba(0, 0, 0, 0.3));\n",
              "      fill: #FFFFFF;\n",
              "    }\n",
              "  </style>\n",
              "\n",
              "      <script>\n",
              "        const buttonEl =\n",
              "          document.querySelector('#df-1df3f2da-44c6-47a0-b9ac-494281b8520e button.colab-df-convert');\n",
              "        buttonEl.style.display =\n",
              "          google.colab.kernel.accessAllowed ? 'block' : 'none';\n",
              "\n",
              "        async function convertToInteractive(key) {\n",
              "          const element = document.querySelector('#df-1df3f2da-44c6-47a0-b9ac-494281b8520e');\n",
              "          const dataTable =\n",
              "            await google.colab.kernel.invokeFunction('convertToInteractive',\n",
              "                                                     [key], {});\n",
              "          if (!dataTable) return;\n",
              "\n",
              "          const docLinkHtml = 'Like what you see? Visit the ' +\n",
              "            '<a target=\"_blank\" href=https://colab.research.google.com/notebooks/data_table.ipynb>data table notebook</a>'\n",
              "            + ' to learn more about interactive tables.';\n",
              "          element.innerHTML = '';\n",
              "          dataTable['output_type'] = 'display_data';\n",
              "          await google.colab.output.renderOutput(dataTable, element);\n",
              "          const docLink = document.createElement('div');\n",
              "          docLink.innerHTML = docLinkHtml;\n",
              "          element.appendChild(docLink);\n",
              "        }\n",
              "      </script>\n",
              "    </div>\n",
              "  </div>\n",
              "  "
            ]
          },
          "metadata": {},
          "execution_count": 38
        }
      ]
    },
    {
      "cell_type": "code",
      "source": [
        "insurance_one_hot = pd.get_dummies(insurance)\n",
        "insurance_one_hot.head()"
      ],
      "metadata": {
        "colab": {
          "base_uri": "https://localhost:8080/",
          "height": 206
        },
        "id": "fgzYrK7bnU3R",
        "outputId": "b0b9ede0-f89f-41d8-bb77-04548c8b7e0f"
      },
      "execution_count": 39,
      "outputs": [
        {
          "output_type": "execute_result",
          "data": {
            "text/plain": [
              "   age     bmi  children      charges  sex_female  sex_male  smoker_no  \\\n",
              "0   19  27.900         0  16884.92400           1         0          0   \n",
              "1   18  33.770         1   1725.55230           0         1          1   \n",
              "2   28  33.000         3   4449.46200           0         1          1   \n",
              "3   33  22.705         0  21984.47061           0         1          1   \n",
              "4   32  28.880         0   3866.85520           0         1          1   \n",
              "\n",
              "   smoker_yes  region_northeast  region_northwest  region_southeast  \\\n",
              "0           1                 0                 0                 0   \n",
              "1           0                 0                 0                 1   \n",
              "2           0                 0                 0                 1   \n",
              "3           0                 0                 1                 0   \n",
              "4           0                 0                 1                 0   \n",
              "\n",
              "   region_southwest  \n",
              "0                 1  \n",
              "1                 0  \n",
              "2                 0  \n",
              "3                 0  \n",
              "4                 0  "
            ],
            "text/html": [
              "\n",
              "  <div id=\"df-d5a7da61-b3c6-44bc-b141-c53cac4d5f6b\">\n",
              "    <div class=\"colab-df-container\">\n",
              "      <div>\n",
              "<style scoped>\n",
              "    .dataframe tbody tr th:only-of-type {\n",
              "        vertical-align: middle;\n",
              "    }\n",
              "\n",
              "    .dataframe tbody tr th {\n",
              "        vertical-align: top;\n",
              "    }\n",
              "\n",
              "    .dataframe thead th {\n",
              "        text-align: right;\n",
              "    }\n",
              "</style>\n",
              "<table border=\"1\" class=\"dataframe\">\n",
              "  <thead>\n",
              "    <tr style=\"text-align: right;\">\n",
              "      <th></th>\n",
              "      <th>age</th>\n",
              "      <th>bmi</th>\n",
              "      <th>children</th>\n",
              "      <th>charges</th>\n",
              "      <th>sex_female</th>\n",
              "      <th>sex_male</th>\n",
              "      <th>smoker_no</th>\n",
              "      <th>smoker_yes</th>\n",
              "      <th>region_northeast</th>\n",
              "      <th>region_northwest</th>\n",
              "      <th>region_southeast</th>\n",
              "      <th>region_southwest</th>\n",
              "    </tr>\n",
              "  </thead>\n",
              "  <tbody>\n",
              "    <tr>\n",
              "      <th>0</th>\n",
              "      <td>19</td>\n",
              "      <td>27.900</td>\n",
              "      <td>0</td>\n",
              "      <td>16884.92400</td>\n",
              "      <td>1</td>\n",
              "      <td>0</td>\n",
              "      <td>0</td>\n",
              "      <td>1</td>\n",
              "      <td>0</td>\n",
              "      <td>0</td>\n",
              "      <td>0</td>\n",
              "      <td>1</td>\n",
              "    </tr>\n",
              "    <tr>\n",
              "      <th>1</th>\n",
              "      <td>18</td>\n",
              "      <td>33.770</td>\n",
              "      <td>1</td>\n",
              "      <td>1725.55230</td>\n",
              "      <td>0</td>\n",
              "      <td>1</td>\n",
              "      <td>1</td>\n",
              "      <td>0</td>\n",
              "      <td>0</td>\n",
              "      <td>0</td>\n",
              "      <td>1</td>\n",
              "      <td>0</td>\n",
              "    </tr>\n",
              "    <tr>\n",
              "      <th>2</th>\n",
              "      <td>28</td>\n",
              "      <td>33.000</td>\n",
              "      <td>3</td>\n",
              "      <td>4449.46200</td>\n",
              "      <td>0</td>\n",
              "      <td>1</td>\n",
              "      <td>1</td>\n",
              "      <td>0</td>\n",
              "      <td>0</td>\n",
              "      <td>0</td>\n",
              "      <td>1</td>\n",
              "      <td>0</td>\n",
              "    </tr>\n",
              "    <tr>\n",
              "      <th>3</th>\n",
              "      <td>33</td>\n",
              "      <td>22.705</td>\n",
              "      <td>0</td>\n",
              "      <td>21984.47061</td>\n",
              "      <td>0</td>\n",
              "      <td>1</td>\n",
              "      <td>1</td>\n",
              "      <td>0</td>\n",
              "      <td>0</td>\n",
              "      <td>1</td>\n",
              "      <td>0</td>\n",
              "      <td>0</td>\n",
              "    </tr>\n",
              "    <tr>\n",
              "      <th>4</th>\n",
              "      <td>32</td>\n",
              "      <td>28.880</td>\n",
              "      <td>0</td>\n",
              "      <td>3866.85520</td>\n",
              "      <td>0</td>\n",
              "      <td>1</td>\n",
              "      <td>1</td>\n",
              "      <td>0</td>\n",
              "      <td>0</td>\n",
              "      <td>1</td>\n",
              "      <td>0</td>\n",
              "      <td>0</td>\n",
              "    </tr>\n",
              "  </tbody>\n",
              "</table>\n",
              "</div>\n",
              "      <button class=\"colab-df-convert\" onclick=\"convertToInteractive('df-d5a7da61-b3c6-44bc-b141-c53cac4d5f6b')\"\n",
              "              title=\"Convert this dataframe to an interactive table.\"\n",
              "              style=\"display:none;\">\n",
              "        \n",
              "  <svg xmlns=\"http://www.w3.org/2000/svg\" height=\"24px\"viewBox=\"0 0 24 24\"\n",
              "       width=\"24px\">\n",
              "    <path d=\"M0 0h24v24H0V0z\" fill=\"none\"/>\n",
              "    <path d=\"M18.56 5.44l.94 2.06.94-2.06 2.06-.94-2.06-.94-.94-2.06-.94 2.06-2.06.94zm-11 1L8.5 8.5l.94-2.06 2.06-.94-2.06-.94L8.5 2.5l-.94 2.06-2.06.94zm10 10l.94 2.06.94-2.06 2.06-.94-2.06-.94-.94-2.06-.94 2.06-2.06.94z\"/><path d=\"M17.41 7.96l-1.37-1.37c-.4-.4-.92-.59-1.43-.59-.52 0-1.04.2-1.43.59L10.3 9.45l-7.72 7.72c-.78.78-.78 2.05 0 2.83L4 21.41c.39.39.9.59 1.41.59.51 0 1.02-.2 1.41-.59l7.78-7.78 2.81-2.81c.8-.78.8-2.07 0-2.86zM5.41 20L4 18.59l7.72-7.72 1.47 1.35L5.41 20z\"/>\n",
              "  </svg>\n",
              "      </button>\n",
              "      \n",
              "  <style>\n",
              "    .colab-df-container {\n",
              "      display:flex;\n",
              "      flex-wrap:wrap;\n",
              "      gap: 12px;\n",
              "    }\n",
              "\n",
              "    .colab-df-convert {\n",
              "      background-color: #E8F0FE;\n",
              "      border: none;\n",
              "      border-radius: 50%;\n",
              "      cursor: pointer;\n",
              "      display: none;\n",
              "      fill: #1967D2;\n",
              "      height: 32px;\n",
              "      padding: 0 0 0 0;\n",
              "      width: 32px;\n",
              "    }\n",
              "\n",
              "    .colab-df-convert:hover {\n",
              "      background-color: #E2EBFA;\n",
              "      box-shadow: 0px 1px 2px rgba(60, 64, 67, 0.3), 0px 1px 3px 1px rgba(60, 64, 67, 0.15);\n",
              "      fill: #174EA6;\n",
              "    }\n",
              "\n",
              "    [theme=dark] .colab-df-convert {\n",
              "      background-color: #3B4455;\n",
              "      fill: #D2E3FC;\n",
              "    }\n",
              "\n",
              "    [theme=dark] .colab-df-convert:hover {\n",
              "      background-color: #434B5C;\n",
              "      box-shadow: 0px 1px 3px 1px rgba(0, 0, 0, 0.15);\n",
              "      filter: drop-shadow(0px 1px 2px rgba(0, 0, 0, 0.3));\n",
              "      fill: #FFFFFF;\n",
              "    }\n",
              "  </style>\n",
              "\n",
              "      <script>\n",
              "        const buttonEl =\n",
              "          document.querySelector('#df-d5a7da61-b3c6-44bc-b141-c53cac4d5f6b button.colab-df-convert');\n",
              "        buttonEl.style.display =\n",
              "          google.colab.kernel.accessAllowed ? 'block' : 'none';\n",
              "\n",
              "        async function convertToInteractive(key) {\n",
              "          const element = document.querySelector('#df-d5a7da61-b3c6-44bc-b141-c53cac4d5f6b');\n",
              "          const dataTable =\n",
              "            await google.colab.kernel.invokeFunction('convertToInteractive',\n",
              "                                                     [key], {});\n",
              "          if (!dataTable) return;\n",
              "\n",
              "          const docLinkHtml = 'Like what you see? Visit the ' +\n",
              "            '<a target=\"_blank\" href=https://colab.research.google.com/notebooks/data_table.ipynb>data table notebook</a>'\n",
              "            + ' to learn more about interactive tables.';\n",
              "          element.innerHTML = '';\n",
              "          dataTable['output_type'] = 'display_data';\n",
              "          await google.colab.output.renderOutput(dataTable, element);\n",
              "          const docLink = document.createElement('div');\n",
              "          docLink.innerHTML = docLinkHtml;\n",
              "          element.appendChild(docLink);\n",
              "        }\n",
              "      </script>\n",
              "    </div>\n",
              "  </div>\n",
              "  "
            ]
          },
          "metadata": {},
          "execution_count": 39
        }
      ]
    },
    {
      "cell_type": "code",
      "source": [
        "x = insurance_one_hot.drop(\"charges\", axis=1)\n",
        "y = insurance_one_hot[\"charges\"]"
      ],
      "metadata": {
        "id": "5jqlUPNJn1dw"
      },
      "execution_count": 40,
      "outputs": []
    },
    {
      "cell_type": "code",
      "source": [
        "x.head()"
      ],
      "metadata": {
        "colab": {
          "base_uri": "https://localhost:8080/",
          "height": 206
        },
        "id": "hWVriwSAoLVc",
        "outputId": "94f60b2e-9ccb-498a-9eef-69dd12d04cba"
      },
      "execution_count": 41,
      "outputs": [
        {
          "output_type": "execute_result",
          "data": {
            "text/plain": [
              "   age     bmi  children  sex_female  sex_male  smoker_no  smoker_yes  \\\n",
              "0   19  27.900         0           1         0          0           1   \n",
              "1   18  33.770         1           0         1          1           0   \n",
              "2   28  33.000         3           0         1          1           0   \n",
              "3   33  22.705         0           0         1          1           0   \n",
              "4   32  28.880         0           0         1          1           0   \n",
              "\n",
              "   region_northeast  region_northwest  region_southeast  region_southwest  \n",
              "0                 0                 0                 0                 1  \n",
              "1                 0                 0                 1                 0  \n",
              "2                 0                 0                 1                 0  \n",
              "3                 0                 1                 0                 0  \n",
              "4                 0                 1                 0                 0  "
            ],
            "text/html": [
              "\n",
              "  <div id=\"df-09160cd8-8f47-4ffa-bd6e-e529a442f560\">\n",
              "    <div class=\"colab-df-container\">\n",
              "      <div>\n",
              "<style scoped>\n",
              "    .dataframe tbody tr th:only-of-type {\n",
              "        vertical-align: middle;\n",
              "    }\n",
              "\n",
              "    .dataframe tbody tr th {\n",
              "        vertical-align: top;\n",
              "    }\n",
              "\n",
              "    .dataframe thead th {\n",
              "        text-align: right;\n",
              "    }\n",
              "</style>\n",
              "<table border=\"1\" class=\"dataframe\">\n",
              "  <thead>\n",
              "    <tr style=\"text-align: right;\">\n",
              "      <th></th>\n",
              "      <th>age</th>\n",
              "      <th>bmi</th>\n",
              "      <th>children</th>\n",
              "      <th>sex_female</th>\n",
              "      <th>sex_male</th>\n",
              "      <th>smoker_no</th>\n",
              "      <th>smoker_yes</th>\n",
              "      <th>region_northeast</th>\n",
              "      <th>region_northwest</th>\n",
              "      <th>region_southeast</th>\n",
              "      <th>region_southwest</th>\n",
              "    </tr>\n",
              "  </thead>\n",
              "  <tbody>\n",
              "    <tr>\n",
              "      <th>0</th>\n",
              "      <td>19</td>\n",
              "      <td>27.900</td>\n",
              "      <td>0</td>\n",
              "      <td>1</td>\n",
              "      <td>0</td>\n",
              "      <td>0</td>\n",
              "      <td>1</td>\n",
              "      <td>0</td>\n",
              "      <td>0</td>\n",
              "      <td>0</td>\n",
              "      <td>1</td>\n",
              "    </tr>\n",
              "    <tr>\n",
              "      <th>1</th>\n",
              "      <td>18</td>\n",
              "      <td>33.770</td>\n",
              "      <td>1</td>\n",
              "      <td>0</td>\n",
              "      <td>1</td>\n",
              "      <td>1</td>\n",
              "      <td>0</td>\n",
              "      <td>0</td>\n",
              "      <td>0</td>\n",
              "      <td>1</td>\n",
              "      <td>0</td>\n",
              "    </tr>\n",
              "    <tr>\n",
              "      <th>2</th>\n",
              "      <td>28</td>\n",
              "      <td>33.000</td>\n",
              "      <td>3</td>\n",
              "      <td>0</td>\n",
              "      <td>1</td>\n",
              "      <td>1</td>\n",
              "      <td>0</td>\n",
              "      <td>0</td>\n",
              "      <td>0</td>\n",
              "      <td>1</td>\n",
              "      <td>0</td>\n",
              "    </tr>\n",
              "    <tr>\n",
              "      <th>3</th>\n",
              "      <td>33</td>\n",
              "      <td>22.705</td>\n",
              "      <td>0</td>\n",
              "      <td>0</td>\n",
              "      <td>1</td>\n",
              "      <td>1</td>\n",
              "      <td>0</td>\n",
              "      <td>0</td>\n",
              "      <td>1</td>\n",
              "      <td>0</td>\n",
              "      <td>0</td>\n",
              "    </tr>\n",
              "    <tr>\n",
              "      <th>4</th>\n",
              "      <td>32</td>\n",
              "      <td>28.880</td>\n",
              "      <td>0</td>\n",
              "      <td>0</td>\n",
              "      <td>1</td>\n",
              "      <td>1</td>\n",
              "      <td>0</td>\n",
              "      <td>0</td>\n",
              "      <td>1</td>\n",
              "      <td>0</td>\n",
              "      <td>0</td>\n",
              "    </tr>\n",
              "  </tbody>\n",
              "</table>\n",
              "</div>\n",
              "      <button class=\"colab-df-convert\" onclick=\"convertToInteractive('df-09160cd8-8f47-4ffa-bd6e-e529a442f560')\"\n",
              "              title=\"Convert this dataframe to an interactive table.\"\n",
              "              style=\"display:none;\">\n",
              "        \n",
              "  <svg xmlns=\"http://www.w3.org/2000/svg\" height=\"24px\"viewBox=\"0 0 24 24\"\n",
              "       width=\"24px\">\n",
              "    <path d=\"M0 0h24v24H0V0z\" fill=\"none\"/>\n",
              "    <path d=\"M18.56 5.44l.94 2.06.94-2.06 2.06-.94-2.06-.94-.94-2.06-.94 2.06-2.06.94zm-11 1L8.5 8.5l.94-2.06 2.06-.94-2.06-.94L8.5 2.5l-.94 2.06-2.06.94zm10 10l.94 2.06.94-2.06 2.06-.94-2.06-.94-.94-2.06-.94 2.06-2.06.94z\"/><path d=\"M17.41 7.96l-1.37-1.37c-.4-.4-.92-.59-1.43-.59-.52 0-1.04.2-1.43.59L10.3 9.45l-7.72 7.72c-.78.78-.78 2.05 0 2.83L4 21.41c.39.39.9.59 1.41.59.51 0 1.02-.2 1.41-.59l7.78-7.78 2.81-2.81c.8-.78.8-2.07 0-2.86zM5.41 20L4 18.59l7.72-7.72 1.47 1.35L5.41 20z\"/>\n",
              "  </svg>\n",
              "      </button>\n",
              "      \n",
              "  <style>\n",
              "    .colab-df-container {\n",
              "      display:flex;\n",
              "      flex-wrap:wrap;\n",
              "      gap: 12px;\n",
              "    }\n",
              "\n",
              "    .colab-df-convert {\n",
              "      background-color: #E8F0FE;\n",
              "      border: none;\n",
              "      border-radius: 50%;\n",
              "      cursor: pointer;\n",
              "      display: none;\n",
              "      fill: #1967D2;\n",
              "      height: 32px;\n",
              "      padding: 0 0 0 0;\n",
              "      width: 32px;\n",
              "    }\n",
              "\n",
              "    .colab-df-convert:hover {\n",
              "      background-color: #E2EBFA;\n",
              "      box-shadow: 0px 1px 2px rgba(60, 64, 67, 0.3), 0px 1px 3px 1px rgba(60, 64, 67, 0.15);\n",
              "      fill: #174EA6;\n",
              "    }\n",
              "\n",
              "    [theme=dark] .colab-df-convert {\n",
              "      background-color: #3B4455;\n",
              "      fill: #D2E3FC;\n",
              "    }\n",
              "\n",
              "    [theme=dark] .colab-df-convert:hover {\n",
              "      background-color: #434B5C;\n",
              "      box-shadow: 0px 1px 3px 1px rgba(0, 0, 0, 0.15);\n",
              "      filter: drop-shadow(0px 1px 2px rgba(0, 0, 0, 0.3));\n",
              "      fill: #FFFFFF;\n",
              "    }\n",
              "  </style>\n",
              "\n",
              "      <script>\n",
              "        const buttonEl =\n",
              "          document.querySelector('#df-09160cd8-8f47-4ffa-bd6e-e529a442f560 button.colab-df-convert');\n",
              "        buttonEl.style.display =\n",
              "          google.colab.kernel.accessAllowed ? 'block' : 'none';\n",
              "\n",
              "        async function convertToInteractive(key) {\n",
              "          const element = document.querySelector('#df-09160cd8-8f47-4ffa-bd6e-e529a442f560');\n",
              "          const dataTable =\n",
              "            await google.colab.kernel.invokeFunction('convertToInteractive',\n",
              "                                                     [key], {});\n",
              "          if (!dataTable) return;\n",
              "\n",
              "          const docLinkHtml = 'Like what you see? Visit the ' +\n",
              "            '<a target=\"_blank\" href=https://colab.research.google.com/notebooks/data_table.ipynb>data table notebook</a>'\n",
              "            + ' to learn more about interactive tables.';\n",
              "          element.innerHTML = '';\n",
              "          dataTable['output_type'] = 'display_data';\n",
              "          await google.colab.output.renderOutput(dataTable, element);\n",
              "          const docLink = document.createElement('div');\n",
              "          docLink.innerHTML = docLinkHtml;\n",
              "          element.appendChild(docLink);\n",
              "        }\n",
              "      </script>\n",
              "    </div>\n",
              "  </div>\n",
              "  "
            ]
          },
          "metadata": {},
          "execution_count": 41
        }
      ]
    },
    {
      "cell_type": "code",
      "source": [
        "# Create training and test sets\n",
        "from sklearn.model_selection import train_test_split\n",
        "x_train, x_test, y_train, y_test = train_test_split(x,\n",
        "                                                    y,\n",
        "                                                    test_size=0.2,\n",
        "                                                    random_state=42) # set random state for reproducible splits"
      ],
      "metadata": {
        "id": "u4tY3BKpoP33"
      },
      "execution_count": 42,
      "outputs": []
    },
    {
      "cell_type": "code",
      "source": [
        "# Set random seed\n",
        "tf.random.set_seed(42)\n",
        "\n",
        "# Create a new model (same as model_1)\n",
        "insurance_model = tf.keras.Sequential([\n",
        "    tf.keras.layers.Dense(1),\n",
        "    tf.keras.layers.Dense(1)\n",
        "])\n",
        "\n",
        "# Compile the model\n",
        "insurance_model.compile(loss=tf.keras.losses.mae,\n",
        "                        optimizer=tf.keras.optimizers.SGD(),\n",
        "                        metrics=[\"mae\"])\n",
        "\n",
        "# Fit model\n",
        "insurance_model.fit(tf.expand_dims(x_train, axis=-1), y_train, epochs=100)"
      ],
      "metadata": {
        "colab": {
          "base_uri": "https://localhost:8080/",
          "height": 0
        },
        "id": "zuy2Y7Szo2Wo",
        "outputId": "a199eda1-34ae-4963-a2cf-0f0628d96a6d"
      },
      "execution_count": 43,
      "outputs": [
        {
          "output_type": "stream",
          "name": "stdout",
          "text": [
            "Epoch 1/100\n",
            "34/34 [==============================] - 1s 2ms/step - loss: 13302.8369 - mae: 13302.8369\n",
            "Epoch 2/100\n",
            "34/34 [==============================] - 0s 2ms/step - loss: 12482.7471 - mae: 12482.7471\n",
            "Epoch 3/100\n",
            "34/34 [==============================] - 0s 2ms/step - loss: 12186.3643 - mae: 12186.3643\n",
            "Epoch 4/100\n",
            "34/34 [==============================] - 0s 2ms/step - loss: 12116.8340 - mae: 12116.8340\n",
            "Epoch 5/100\n",
            "34/34 [==============================] - 0s 3ms/step - loss: 12013.0332 - mae: 12013.0332\n",
            "Epoch 6/100\n",
            "34/34 [==============================] - 0s 2ms/step - loss: 11846.9951 - mae: 11846.9951\n",
            "Epoch 7/100\n",
            "34/34 [==============================] - 0s 2ms/step - loss: 11557.4883 - mae: 11557.4883\n",
            "Epoch 8/100\n",
            "34/34 [==============================] - 0s 2ms/step - loss: 11086.1338 - mae: 11086.1338\n",
            "Epoch 9/100\n",
            "34/34 [==============================] - 0s 2ms/step - loss: 10478.3955 - mae: 10478.3955\n",
            "Epoch 10/100\n",
            "34/34 [==============================] - 0s 2ms/step - loss: 9833.2949 - mae: 9833.2949\n",
            "Epoch 11/100\n",
            "34/34 [==============================] - 0s 2ms/step - loss: 9280.7871 - mae: 9280.7871\n",
            "Epoch 12/100\n",
            "34/34 [==============================] - 0s 2ms/step - loss: 8888.8955 - mae: 8888.8955\n",
            "Epoch 13/100\n",
            "34/34 [==============================] - 0s 2ms/step - loss: 8645.5762 - mae: 8645.5762\n",
            "Epoch 14/100\n",
            "34/34 [==============================] - 0s 2ms/step - loss: 8576.2988 - mae: 8576.2988\n",
            "Epoch 15/100\n",
            "34/34 [==============================] - 0s 3ms/step - loss: 8493.8457 - mae: 8493.8457\n",
            "Epoch 16/100\n",
            "34/34 [==============================] - 0s 2ms/step - loss: 8519.2939 - mae: 8519.2939\n",
            "Epoch 17/100\n",
            "34/34 [==============================] - 0s 3ms/step - loss: 8564.3896 - mae: 8564.3896\n",
            "Epoch 18/100\n",
            "34/34 [==============================] - 0s 2ms/step - loss: 8531.7070 - mae: 8531.7070\n",
            "Epoch 19/100\n",
            "34/34 [==============================] - 0s 3ms/step - loss: 8477.7871 - mae: 8477.7871\n",
            "Epoch 20/100\n",
            "34/34 [==============================] - 0s 2ms/step - loss: 8539.3291 - mae: 8539.3291\n",
            "Epoch 21/100\n",
            "34/34 [==============================] - 0s 2ms/step - loss: 8479.4092 - mae: 8479.4092\n",
            "Epoch 22/100\n",
            "34/34 [==============================] - 0s 2ms/step - loss: 8623.0127 - mae: 8623.0127\n",
            "Epoch 23/100\n",
            "34/34 [==============================] - 0s 2ms/step - loss: 8532.7959 - mae: 8532.7959\n",
            "Epoch 24/100\n",
            "34/34 [==============================] - 0s 2ms/step - loss: 8464.5449 - mae: 8464.5449\n",
            "Epoch 25/100\n",
            "34/34 [==============================] - 0s 2ms/step - loss: 8498.3018 - mae: 8498.3018\n",
            "Epoch 26/100\n",
            "34/34 [==============================] - 0s 2ms/step - loss: 8437.0938 - mae: 8437.0938\n",
            "Epoch 27/100\n",
            "34/34 [==============================] - 0s 3ms/step - loss: 8533.5361 - mae: 8533.5361\n",
            "Epoch 28/100\n",
            "34/34 [==============================] - 0s 3ms/step - loss: 8431.9453 - mae: 8431.9453\n",
            "Epoch 29/100\n",
            "34/34 [==============================] - 0s 2ms/step - loss: 8428.3398 - mae: 8428.3398\n",
            "Epoch 30/100\n",
            "34/34 [==============================] - 0s 2ms/step - loss: 8492.4893 - mae: 8492.4893\n",
            "Epoch 31/100\n",
            "34/34 [==============================] - 0s 2ms/step - loss: 8451.7246 - mae: 8451.7246\n",
            "Epoch 32/100\n",
            "34/34 [==============================] - 0s 2ms/step - loss: 8468.8369 - mae: 8468.8369\n",
            "Epoch 33/100\n",
            "34/34 [==============================] - 0s 2ms/step - loss: 8394.3965 - mae: 8394.3965\n",
            "Epoch 34/100\n",
            "34/34 [==============================] - 0s 2ms/step - loss: 8418.7305 - mae: 8418.7305\n",
            "Epoch 35/100\n",
            "34/34 [==============================] - 0s 2ms/step - loss: 8434.5527 - mae: 8434.5527\n",
            "Epoch 36/100\n",
            "34/34 [==============================] - 0s 2ms/step - loss: 8444.7070 - mae: 8444.7070\n",
            "Epoch 37/100\n",
            "34/34 [==============================] - 0s 2ms/step - loss: 8428.8584 - mae: 8428.8584\n",
            "Epoch 38/100\n",
            "34/34 [==============================] - 0s 2ms/step - loss: 8398.2207 - mae: 8398.2207\n",
            "Epoch 39/100\n",
            "34/34 [==============================] - 0s 2ms/step - loss: 8436.3701 - mae: 8436.3701\n",
            "Epoch 40/100\n",
            "34/34 [==============================] - 0s 2ms/step - loss: 8362.0928 - mae: 8362.0928\n",
            "Epoch 41/100\n",
            "34/34 [==============================] - 0s 2ms/step - loss: 8400.1260 - mae: 8400.1260\n",
            "Epoch 42/100\n",
            "34/34 [==============================] - 0s 2ms/step - loss: 8414.9717 - mae: 8414.9717\n",
            "Epoch 43/100\n",
            "34/34 [==============================] - 0s 2ms/step - loss: 8466.9854 - mae: 8466.9854\n",
            "Epoch 44/100\n",
            "34/34 [==============================] - 0s 2ms/step - loss: 8370.4775 - mae: 8370.4775\n",
            "Epoch 45/100\n",
            "34/34 [==============================] - 0s 2ms/step - loss: 8431.1670 - mae: 8431.1670\n",
            "Epoch 46/100\n",
            "34/34 [==============================] - 0s 2ms/step - loss: 8401.3350 - mae: 8401.3350\n",
            "Epoch 47/100\n",
            "34/34 [==============================] - 0s 2ms/step - loss: 8394.8818 - mae: 8394.8818\n",
            "Epoch 48/100\n",
            "34/34 [==============================] - 0s 2ms/step - loss: 8343.9844 - mae: 8343.9844\n",
            "Epoch 49/100\n",
            "34/34 [==============================] - 0s 2ms/step - loss: 8418.5820 - mae: 8418.5820\n",
            "Epoch 50/100\n",
            "34/34 [==============================] - 0s 2ms/step - loss: 8392.8926 - mae: 8392.8926\n",
            "Epoch 51/100\n",
            "34/34 [==============================] - 0s 2ms/step - loss: 8352.5000 - mae: 8352.5000\n",
            "Epoch 52/100\n",
            "34/34 [==============================] - 0s 2ms/step - loss: 8364.7129 - mae: 8364.7129\n",
            "Epoch 53/100\n",
            "34/34 [==============================] - 0s 3ms/step - loss: 8452.8643 - mae: 8452.8643\n",
            "Epoch 54/100\n",
            "34/34 [==============================] - 0s 2ms/step - loss: 8400.7715 - mae: 8400.7715\n",
            "Epoch 55/100\n",
            "34/34 [==============================] - 0s 2ms/step - loss: 8349.5850 - mae: 8349.5850\n",
            "Epoch 56/100\n",
            "34/34 [==============================] - 0s 2ms/step - loss: 8376.4189 - mae: 8376.4189\n",
            "Epoch 57/100\n",
            "34/34 [==============================] - 0s 2ms/step - loss: 8393.3008 - mae: 8393.3008\n",
            "Epoch 58/100\n",
            "34/34 [==============================] - 0s 2ms/step - loss: 8345.4814 - mae: 8345.4814\n",
            "Epoch 59/100\n",
            "34/34 [==============================] - 0s 2ms/step - loss: 8421.5225 - mae: 8421.5225\n",
            "Epoch 60/100\n",
            "34/34 [==============================] - 0s 2ms/step - loss: 8419.4219 - mae: 8419.4219\n",
            "Epoch 61/100\n",
            "34/34 [==============================] - 0s 2ms/step - loss: 8413.5225 - mae: 8413.5225\n",
            "Epoch 62/100\n",
            "34/34 [==============================] - 0s 2ms/step - loss: 8348.2002 - mae: 8348.2002\n",
            "Epoch 63/100\n",
            "34/34 [==============================] - 0s 2ms/step - loss: 8376.7646 - mae: 8376.7646\n",
            "Epoch 64/100\n",
            "34/34 [==============================] - 0s 2ms/step - loss: 8395.7822 - mae: 8395.7822\n",
            "Epoch 65/100\n",
            "34/34 [==============================] - 0s 3ms/step - loss: 8381.5342 - mae: 8381.5342\n",
            "Epoch 66/100\n",
            "34/34 [==============================] - 0s 2ms/step - loss: 8348.9912 - mae: 8348.9912\n",
            "Epoch 67/100\n",
            "34/34 [==============================] - 0s 2ms/step - loss: 8332.1133 - mae: 8332.1133\n",
            "Epoch 68/100\n",
            "34/34 [==============================] - 0s 2ms/step - loss: 8340.0879 - mae: 8340.0879\n",
            "Epoch 69/100\n",
            "34/34 [==============================] - 0s 2ms/step - loss: 8351.5244 - mae: 8351.5244\n",
            "Epoch 70/100\n",
            "34/34 [==============================] - 0s 2ms/step - loss: 8414.8047 - mae: 8414.8047\n",
            "Epoch 71/100\n",
            "34/34 [==============================] - 0s 2ms/step - loss: 8358.7637 - mae: 8358.7637\n",
            "Epoch 72/100\n",
            "34/34 [==============================] - 0s 2ms/step - loss: 8371.0635 - mae: 8371.0635\n",
            "Epoch 73/100\n",
            "34/34 [==============================] - 0s 2ms/step - loss: 8355.4590 - mae: 8355.4590\n",
            "Epoch 74/100\n",
            "34/34 [==============================] - 0s 2ms/step - loss: 8363.1963 - mae: 8363.1963\n",
            "Epoch 75/100\n",
            "34/34 [==============================] - 0s 2ms/step - loss: 8331.7012 - mae: 8331.7012\n",
            "Epoch 76/100\n",
            "34/34 [==============================] - 0s 2ms/step - loss: 8337.6494 - mae: 8337.6494\n",
            "Epoch 77/100\n",
            "34/34 [==============================] - 0s 3ms/step - loss: 8377.4131 - mae: 8377.4131\n",
            "Epoch 78/100\n",
            "34/34 [==============================] - 0s 2ms/step - loss: 8360.4521 - mae: 8360.4521\n",
            "Epoch 79/100\n",
            "34/34 [==============================] - 0s 2ms/step - loss: 8399.4336 - mae: 8399.4336\n",
            "Epoch 80/100\n",
            "34/34 [==============================] - 0s 2ms/step - loss: 8330.2451 - mae: 8330.2451\n",
            "Epoch 81/100\n",
            "34/34 [==============================] - 0s 2ms/step - loss: 8347.8076 - mae: 8347.8076\n",
            "Epoch 82/100\n",
            "34/34 [==============================] - 0s 2ms/step - loss: 8339.5273 - mae: 8339.5273\n",
            "Epoch 83/100\n",
            "34/34 [==============================] - 0s 2ms/step - loss: 8421.5430 - mae: 8421.5430\n",
            "Epoch 84/100\n",
            "34/34 [==============================] - 0s 2ms/step - loss: 8348.5996 - mae: 8348.5996\n",
            "Epoch 85/100\n",
            "34/34 [==============================] - 0s 2ms/step - loss: 8373.5889 - mae: 8373.5889\n",
            "Epoch 86/100\n",
            "34/34 [==============================] - 0s 1ms/step - loss: 8364.0898 - mae: 8364.0898\n",
            "Epoch 87/100\n",
            "34/34 [==============================] - 0s 2ms/step - loss: 8355.7471 - mae: 8355.7471\n",
            "Epoch 88/100\n",
            "34/34 [==============================] - 0s 2ms/step - loss: 8367.1260 - mae: 8367.1260\n",
            "Epoch 89/100\n",
            "34/34 [==============================] - 0s 2ms/step - loss: 8391.2324 - mae: 8391.2324\n",
            "Epoch 90/100\n",
            "34/34 [==============================] - 0s 3ms/step - loss: 8329.4316 - mae: 8329.4316\n",
            "Epoch 91/100\n",
            "34/34 [==============================] - 0s 2ms/step - loss: 8362.7812 - mae: 8362.7812\n",
            "Epoch 92/100\n",
            "34/34 [==============================] - 0s 2ms/step - loss: 8378.6680 - mae: 8378.6680\n",
            "Epoch 93/100\n",
            "34/34 [==============================] - 0s 2ms/step - loss: 8344.0234 - mae: 8344.0234\n",
            "Epoch 94/100\n",
            "34/34 [==============================] - 0s 3ms/step - loss: 8317.8711 - mae: 8317.8711\n",
            "Epoch 95/100\n",
            "34/34 [==============================] - 0s 2ms/step - loss: 8343.8066 - mae: 8343.8066\n",
            "Epoch 96/100\n",
            "34/34 [==============================] - 0s 2ms/step - loss: 8348.1357 - mae: 8348.1357\n",
            "Epoch 97/100\n",
            "34/34 [==============================] - 0s 2ms/step - loss: 8348.0938 - mae: 8348.0938\n",
            "Epoch 98/100\n",
            "34/34 [==============================] - 0s 2ms/step - loss: 8349.9180 - mae: 8349.9180\n",
            "Epoch 99/100\n",
            "34/34 [==============================] - 0s 2ms/step - loss: 8320.5635 - mae: 8320.5635\n",
            "Epoch 100/100\n",
            "34/34 [==============================] - 0s 2ms/step - loss: 8340.0508 - mae: 8340.0508\n"
          ]
        },
        {
          "output_type": "execute_result",
          "data": {
            "text/plain": [
              "<keras.callbacks.History at 0x7fae395d5810>"
            ]
          },
          "metadata": {},
          "execution_count": 43
        }
      ]
    },
    {
      "cell_type": "code",
      "source": [
        "# Check the results of the insurance model\n",
        "insurance_model.evaluate(x_test, y_test)"
      ],
      "metadata": {
        "colab": {
          "base_uri": "https://localhost:8080/",
          "height": 0
        },
        "id": "9aBq7Rj0p7Eo",
        "outputId": "e3a7b807-d16e-495b-cd0d-ea248fe1bef0"
      },
      "execution_count": 44,
      "outputs": [
        {
          "output_type": "stream",
          "name": "stdout",
          "text": [
            "9/9 [==============================] - 0s 2ms/step - loss: 8932.8223 - mae: 8932.8223\n"
          ]
        },
        {
          "output_type": "execute_result",
          "data": {
            "text/plain": [
              "[8932.822265625, 8932.822265625]"
            ]
          },
          "metadata": {},
          "execution_count": 44
        }
      ]
    },
    {
      "cell_type": "code",
      "source": [
        "# Set random seed\n",
        "tf.random.set_seed(42)\n",
        "\n",
        "# Add an extra layer and increase number of units\n",
        "insurance_model_1 = tf.keras.Sequential([\n",
        "  tf.keras.layers.Dense(100), # 100 units\n",
        "  tf.keras.layers.Dense(10), # 10 units\n",
        "  tf.keras.layers.Dense(1) # 1 unit (important for output layer)\n",
        "])\n",
        "\n",
        "# Compile the model\n",
        "insurance_model_1.compile(loss=tf.keras.losses.mae,\n",
        "                          optimizer=tf.keras.optimizers.Adam(), # Adam works but SGD doesn't \n",
        "                          metrics=['mae'])\n",
        "\n",
        "# Fit the model and save the history (we can plot this)\n",
        "history = insurance_model_1.fit(tf.expand_dims(x_train, axis=-1), y_train, epochs=100, verbose=0)"
      ],
      "metadata": {
        "id": "oaEEGsPGqCZb"
      },
      "execution_count": 48,
      "outputs": []
    },
    {
      "cell_type": "code",
      "source": [
        "# Evaluate our larger model\n",
        "insurance_model_1.evaluate(x_test, y_test)"
      ],
      "metadata": {
        "colab": {
          "base_uri": "https://localhost:8080/",
          "height": 0
        },
        "id": "z5icjYHz-rZQ",
        "outputId": "fa781d48-c183-4107-a578-67a17bb9a1a8"
      },
      "execution_count": 49,
      "outputs": [
        {
          "output_type": "stream",
          "name": "stdout",
          "text": [
            "9/9 [==============================] - 0s 5ms/step - loss: 8627.9434 - mae: 8627.9434\n"
          ]
        },
        {
          "output_type": "execute_result",
          "data": {
            "text/plain": [
              "[8627.943359375, 8627.943359375]"
            ]
          },
          "metadata": {},
          "execution_count": 49
        }
      ]
    },
    {
      "cell_type": "code",
      "source": [
        "# Plot history (also known as a loss curve)\n",
        "pd.DataFrame(history.history).plot()\n",
        "plt.ylabel(\"loss\")\n",
        "plt.xlabel(\"epochs\")"
      ],
      "metadata": {
        "colab": {
          "base_uri": "https://localhost:8080/",
          "height": 296
        },
        "id": "VTmutugr-zhg",
        "outputId": "fa48a1c0-7873-4c06-9569-c68ce058dd2d"
      },
      "execution_count": 50,
      "outputs": [
        {
          "output_type": "execute_result",
          "data": {
            "text/plain": [
              "Text(0.5, 0, 'epochs')"
            ]
          },
          "metadata": {},
          "execution_count": 50
        },
        {
          "output_type": "display_data",
          "data": {
            "text/plain": [
              "<Figure size 432x288 with 1 Axes>"
            ],
            "image/png": "[encoded data removed]"
          },
          "metadata": {
            "needs_background": "light"
          }
        }
      ]
    },
    {
      "cell_type": "code",
      "source": [
        "# Train for 100 more epochs\n",
        "history_1 = insurance_model_1.fit(tf.expand_dims(x_train, axis=-1), y_train, epochs=100, verbose=0)"
      ],
      "metadata": {
        "id": "d2rI9qJN_G-l"
      },
      "execution_count": 51,
      "outputs": []
    },
    {
      "cell_type": "code",
      "source": [
        "# Evaluate the model trained for 200 total epochs\n",
        "insurance_model_1_loss, insurance_model_1_mae = insurance_model_1.evaluate(x_test, y_test)\n",
        "insurance_model_1_loss, insurance_model_1_mae"
      ],
      "metadata": {
        "colab": {
          "base_uri": "https://localhost:8080/"
        },
        "id": "KDHPSBBi_1KU",
        "outputId": "38b8aabd-0e77-42eb-80f7-b4a86dbd1506"
      },
      "execution_count": 52,
      "outputs": [
        {
          "output_type": "stream",
          "name": "stdout",
          "text": [
            "9/9 [==============================] - 0s 4ms/step - loss: 8627.7393 - mae: 8627.7393\n"
          ]
        },
        {
          "output_type": "execute_result",
          "data": {
            "text/plain": [
              "(8627.7392578125, 8627.7392578125)"
            ]
          },
          "metadata": {},
          "execution_count": 52
        }
      ]
    },
    {
      "cell_type": "code",
      "source": [
        "# Plot the model trained for 200 total epochs loss curves\n",
        "pd.DataFrame(history_1.history).plot()\n",
        "plt.ylabel(\"loss\")\n",
        "plt.xlabel(\"epochs\");"
      ],
      "metadata": {
        "colab": {
          "base_uri": "https://localhost:8080/",
          "height": 279
        },
        "id": "Jea5pqYAAPJy",
        "outputId": "ab5660d5-1207-4f4e-ef05-fd3cdc48519b"
      },
      "execution_count": 53,
      "outputs": [
        {
          "output_type": "display_data",
          "data": {
            "text/plain": [
              "<Figure size 432x288 with 1 Axes>"
            ],
            "image/png": "[encoded data removed]"
          },
          "metadata": {
            "needs_background": "light"
          }
        }
      ]
    },
    {
      "cell_type": "code",
      "source": [
        "import pandas as pd\n",
        "import matplotlib.pyplot as plt\n",
        "import tensorflow as tf\n",
        "\n",
        "# Read in the insurance dataset\n",
        "insurance = pd.read_csv(\"https://raw.githubusercontent.com/stedy/Machine-Learning-with-R-datasets/master/insurance.csv\")"
      ],
      "metadata": {
        "id": "4ZYSmhW4AtaT"
      },
      "execution_count": 54,
      "outputs": []
    },
    {
      "cell_type": "code",
      "source": [
        "insurance.head()"
      ],
      "metadata": {
        "colab": {
          "base_uri": "https://localhost:8080/",
          "height": 206
        },
        "id": "B8diRxYtCaKf",
        "outputId": "413cb8b1-48d7-47fa-b416-1fe9f02b6e55"
      },
      "execution_count": 55,
      "outputs": [
        {
          "output_type": "execute_result",
          "data": {
            "text/plain": [
              "   age     sex     bmi  children smoker     region      charges\n",
              "0   19  female  27.900         0    yes  southwest  16884.92400\n",
              "1   18    male  33.770         1     no  southeast   1725.55230\n",
              "2   28    male  33.000         3     no  southeast   4449.46200\n",
              "3   33    male  22.705         0     no  northwest  21984.47061\n",
              "4   32    male  28.880         0     no  northwest   3866.85520"
            ],
            "text/html": [
              "\n",
              "  <div id=\"df-9ddd909e-2323-43a7-b8fa-c9a23ec1822c\">\n",
              "    <div class=\"colab-df-container\">\n",
              "      <div>\n",
              "<style scoped>\n",
              "    .dataframe tbody tr th:only-of-type {\n",
              "        vertical-align: middle;\n",
              "    }\n",
              "\n",
              "    .dataframe tbody tr th {\n",
              "        vertical-align: top;\n",
              "    }\n",
              "\n",
              "    .dataframe thead th {\n",
              "        text-align: right;\n",
              "    }\n",
              "</style>\n",
              "<table border=\"1\" class=\"dataframe\">\n",
              "  <thead>\n",
              "    <tr style=\"text-align: right;\">\n",
              "      <th></th>\n",
              "      <th>age</th>\n",
              "      <th>sex</th>\n",
              "      <th>bmi</th>\n",
              "      <th>children</th>\n",
              "      <th>smoker</th>\n",
              "      <th>region</th>\n",
              "      <th>charges</th>\n",
              "    </tr>\n",
              "  </thead>\n",
              "  <tbody>\n",
              "    <tr>\n",
              "      <th>0</th>\n",
              "      <td>19</td>\n",
              "      <td>female</td>\n",
              "      <td>27.900</td>\n",
              "      <td>0</td>\n",
              "      <td>yes</td>\n",
              "      <td>southwest</td>\n",
              "      <td>16884.92400</td>\n",
              "    </tr>\n",
              "    <tr>\n",
              "      <th>1</th>\n",
              "      <td>18</td>\n",
              "      <td>male</td>\n",
              "      <td>33.770</td>\n",
              "      <td>1</td>\n",
              "      <td>no</td>\n",
              "      <td>southeast</td>\n",
              "      <td>1725.55230</td>\n",
              "    </tr>\n",
              "    <tr>\n",
              "      <th>2</th>\n",
              "      <td>28</td>\n",
              "      <td>male</td>\n",
              "      <td>33.000</td>\n",
              "      <td>3</td>\n",
              "      <td>no</td>\n",
              "      <td>southeast</td>\n",
              "      <td>4449.46200</td>\n",
              "    </tr>\n",
              "    <tr>\n",
              "      <th>3</th>\n",
              "      <td>33</td>\n",
              "      <td>male</td>\n",
              "      <td>22.705</td>\n",
              "      <td>0</td>\n",
              "      <td>no</td>\n",
              "      <td>northwest</td>\n",
              "      <td>21984.47061</td>\n",
              "    </tr>\n",
              "    <tr>\n",
              "      <th>4</th>\n",
              "      <td>32</td>\n",
              "      <td>male</td>\n",
              "      <td>28.880</td>\n",
              "      <td>0</td>\n",
              "      <td>no</td>\n",
              "      <td>northwest</td>\n",
              "      <td>3866.85520</td>\n",
              "    </tr>\n",
              "  </tbody>\n",
              "</table>\n",
              "</div>\n",
              "      <button class=\"colab-df-convert\" onclick=\"convertToInteractive('df-9ddd909e-2323-43a7-b8fa-c9a23ec1822c')\"\n",
              "              title=\"Convert this dataframe to an interactive table.\"\n",
              "              style=\"display:none;\">\n",
              "        \n",
              "  <svg xmlns=\"http://www.w3.org/2000/svg\" height=\"24px\"viewBox=\"0 0 24 24\"\n",
              "       width=\"24px\">\n",
              "    <path d=\"M0 0h24v24H0V0z\" fill=\"none\"/>\n",
              "    <path d=\"M18.56 5.44l.94 2.06.94-2.06 2.06-.94-2.06-.94-.94-2.06-.94 2.06-2.06.94zm-11 1L8.5 8.5l.94-2.06 2.06-.94-2.06-.94L8.5 2.5l-.94 2.06-2.06.94zm10 10l.94 2.06.94-2.06 2.06-.94-2.06-.94-.94-2.06-.94 2.06-2.06.94z\"/><path d=\"M17.41 7.96l-1.37-1.37c-.4-.4-.92-.59-1.43-.59-.52 0-1.04.2-1.43.59L10.3 9.45l-7.72 7.72c-.78.78-.78 2.05 0 2.83L4 21.41c.39.39.9.59 1.41.59.51 0 1.02-.2 1.41-.59l7.78-7.78 2.81-2.81c.8-.78.8-2.07 0-2.86zM5.41 20L4 18.59l7.72-7.72 1.47 1.35L5.41 20z\"/>\n",
              "  </svg>\n",
              "      </button>\n",
              "      \n",
              "  <style>\n",
              "    .colab-df-container {\n",
              "      display:flex;\n",
              "      flex-wrap:wrap;\n",
              "      gap: 12px;\n",
              "    }\n",
              "\n",
              "    .colab-df-convert {\n",
              "      background-color: #E8F0FE;\n",
              "      border: none;\n",
              "      border-radius: 50%;\n",
              "      cursor: pointer;\n",
              "      display: none;\n",
              "      fill: #1967D2;\n",
              "      height: 32px;\n",
              "      padding: 0 0 0 0;\n",
              "      width: 32px;\n",
              "    }\n",
              "\n",
              "    .colab-df-convert:hover {\n",
              "      background-color: #E2EBFA;\n",
              "      box-shadow: 0px 1px 2px rgba(60, 64, 67, 0.3), 0px 1px 3px 1px rgba(60, 64, 67, 0.15);\n",
              "      fill: #174EA6;\n",
              "    }\n",
              "\n",
              "    [theme=dark] .colab-df-convert {\n",
              "      background-color: #3B4455;\n",
              "      fill: #D2E3FC;\n",
              "    }\n",
              "\n",
              "    [theme=dark] .colab-df-convert:hover {\n",
              "      background-color: #434B5C;\n",
              "      box-shadow: 0px 1px 3px 1px rgba(0, 0, 0, 0.15);\n",
              "      filter: drop-shadow(0px 1px 2px rgba(0, 0, 0, 0.3));\n",
              "      fill: #FFFFFF;\n",
              "    }\n",
              "  </style>\n",
              "\n",
              "      <script>\n",
              "        const buttonEl =\n",
              "          document.querySelector('#df-9ddd909e-2323-43a7-b8fa-c9a23ec1822c button.colab-df-convert');\n",
              "        buttonEl.style.display =\n",
              "          google.colab.kernel.accessAllowed ? 'block' : 'none';\n",
              "\n",
              "        async function convertToInteractive(key) {\n",
              "          const element = document.querySelector('#df-9ddd909e-2323-43a7-b8fa-c9a23ec1822c');\n",
              "          const dataTable =\n",
              "            await google.colab.kernel.invokeFunction('convertToInteractive',\n",
              "                                                     [key], {});\n",
              "          if (!dataTable) return;\n",
              "\n",
              "          const docLinkHtml = 'Like what you see? Visit the ' +\n",
              "            '<a target=\"_blank\" href=https://colab.research.google.com/notebooks/data_table.ipynb>data table notebook</a>'\n",
              "            + ' to learn more about interactive tables.';\n",
              "          element.innerHTML = '';\n",
              "          dataTable['output_type'] = 'display_data';\n",
              "          await google.colab.output.renderOutput(dataTable, element);\n",
              "          const docLink = document.createElement('div');\n",
              "          docLink.innerHTML = docLinkHtml;\n",
              "          element.appendChild(docLink);\n",
              "        }\n",
              "      </script>\n",
              "    </div>\n",
              "  </div>\n",
              "  "
            ]
          },
          "metadata": {},
          "execution_count": 55
        }
      ]
    },
    {
      "cell_type": "code",
      "source": [
        "from sklearn.compose import make_column_transformer\n",
        "from sklearn.preprocessing import MinMaxScaler, OneHotEncoder\n",
        "\n",
        "# Create column transformer (this will help us normalize/preprocess our data)\n",
        "ct = make_column_transformer(\n",
        "    (MinMaxScaler(), [\"age\", \"bmi\", \"children\"]), # get all values between 0 and 1\n",
        "    (OneHotEncoder(handle_unknown=\"ignore\"), [\"sex\", \"smoker\", \"region\"])\n",
        ")\n",
        "\n",
        "# Create X & y\n",
        "x = insurance.drop(\"charges\", axis=1)\n",
        "y = insurance[\"charges\"]\n",
        "\n",
        "# Build our train and test sets (use random state to ensure same split as before)\n",
        "x_train, x_test, y_train, y_test = train_test_split(x, y, test_size=0.2, random_state=42)\n",
        "\n",
        "# Fit column transformer on the training data only (doing so on test data would result in data leakage)\n",
        "ct.fit(x_train)\n",
        "\n",
        "# Transform training and test data with normalization (MinMaxScalar) and one hot encoding (OneHotEncoder)\n",
        "x_train_normal = ct.transform(x_train)\n",
        "x_test_normal = ct.transform(x_test)"
      ],
      "metadata": {
        "id": "nk8GKxWvCcLP"
      },
      "execution_count": 60,
      "outputs": []
    },
    {
      "cell_type": "markdown",
      "source": [
        "Now we've normalize it and one-hot encoded it, what does our data look like now?"
      ],
      "metadata": {
        "id": "aObjtsD6EbcL"
      }
    },
    {
      "cell_type": "code",
      "source": [
        "# None-normalized and none-one-hot encoded data example\n",
        "x_train.loc[0]"
      ],
      "metadata": {
        "colab": {
          "base_uri": "https://localhost:8080/"
        },
        "id": "AnSKwxHsE9fU",
        "outputId": "26b9f80b-c50c-4800-c838-f6a68ef70b32"
      },
      "execution_count": 61,
      "outputs": [
        {
          "output_type": "execute_result",
          "data": {
            "text/plain": [
              "age                19\n",
              "sex            female\n",
              "bmi              27.9\n",
              "children            0\n",
              "smoker            yes\n",
              "region      southwest\n",
              "Name: 0, dtype: object"
            ]
          },
          "metadata": {},
          "execution_count": 61
        }
      ]
    },
    {
      "cell_type": "code",
      "source": [
        "# Normalized and one-hot encoded example\n",
        "x_train_normal[0]"
      ],
      "metadata": {
        "colab": {
          "base_uri": "https://localhost:8080/"
        },
        "id": "qClC3CobFHpc",
        "outputId": "2d91698d-2b60-4d56-83e4-c61ba998d630"
      },
      "execution_count": 62,
      "outputs": [
        {
          "output_type": "execute_result",
          "data": {
            "text/plain": [
              "array([0.60869565, 0.10734463, 0.4       , 1.        , 0.        ,\n",
              "       1.        , 0.        , 0.        , 1.        , 0.        ,\n",
              "       0.        ])"
            ]
          },
          "metadata": {},
          "execution_count": 62
        }
      ]
    },
    {
      "cell_type": "code",
      "source": [
        "# Normalized/one-hot encoded shape is larger because of the extra columns\n",
        "x_train_normal.shape, x_train.shape"
      ],
      "metadata": {
        "colab": {
          "base_uri": "https://localhost:8080/"
        },
        "id": "N21UhZ6jFXcU",
        "outputId": "b38844c7-c0a1-4845-a204-f7f15455831d"
      },
      "execution_count": 63,
      "outputs": [
        {
          "output_type": "execute_result",
          "data": {
            "text/plain": [
              "((1070, 11), (1070, 6))"
            ]
          },
          "metadata": {},
          "execution_count": 63
        }
      ]
    },
    {
      "cell_type": "code",
      "source": [],
      "metadata": {
        "id": "0XhxmzkpGAld"
      },
      "execution_count": null,
      "outputs": []
    }
  ]
}